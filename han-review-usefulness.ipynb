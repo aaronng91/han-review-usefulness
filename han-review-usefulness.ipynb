{
  "nbformat": 4,
  "nbformat_minor": 0,
  "metadata": {
    "accelerator": "GPU",
    "colab": {
      "name": "Understanding review usefulness through attention using Hierarchical Attention Network.ipynb",
      "provenance": [],
      "collapsed_sections": [],
      "machine_shape": "hm"
    },
    "kernelspec": {
      "display_name": "Python 3",
      "language": "python",
      "name": "python3"
    },
    "language_info": {
      "codemirror_mode": {
        "name": "ipython",
        "version": 3
      },
      "file_extension": ".py",
      "mimetype": "text/x-python",
      "name": "python",
      "nbconvert_exporter": "python",
      "pygments_lexer": "ipython3",
      "version": "3.7.6"
    }
  },
  "cells": [
    {
      "cell_type": "markdown",
      "metadata": {
        "id": "uOugyDAcfygu",
        "colab_type": "text"
      },
      "source": [
        "## Understanding review usefulness through attention using Hierarchical Attention Network (HAN)\n"
      ]
    },
    {
      "cell_type": "code",
      "metadata": {
        "colab_type": "code",
        "id": "E4fHE5EL769M",
        "colab": {}
      },
      "source": [
        "import numpy as np\n",
        "import torch\n",
        "import torch.nn.functional as F\n",
        "from torch import nn\n",
        "import pickle\n",
        "import pandas as pd\n",
        "import json\n",
        "import gzip\n",
        "import matplotlib.pyplot as plt\n",
        "\n",
        "import nltk\n",
        "from fastai.text import Tokenizer, Vocab, SpacyTokenizer, WeightDropout, EmbeddingDropout\n",
        "from gensim.utils import tokenize\n",
        "from sklearn.metrics import accuracy_score, f1_score\n",
        "from textblob import TextBlob\n",
        "\n",
        "use_cuda = torch.cuda.is_available()\n",
        "seed = 123\n",
        "torch.manual_seed(seed)\n",
        "np.random.seed(seed)\n",
        "\n",
        "model_name = 'amazon_electronics_useful'"
      ],
      "execution_count": 0,
      "outputs": []
    },
    {
      "cell_type": "markdown",
      "metadata": {
        "id": "8oYbhlP-D_HM",
        "colab_type": "text"
      },
      "source": [
        "In this notebook, we will be using a **subset of the Amazon Electronics 5-core review dataset**, and GloVe 300D word embeddings.\n",
        "\n",
        "Original dataset is obtained from https://nijianmo.github.io/amazon/index.html. Reviews from other Amazon categories can also be obtained from the same link."
      ]
    },
    {
      "cell_type": "code",
      "metadata": {
        "id": "-QzsSEyI_cIL",
        "colab_type": "code",
        "outputId": "47380805-d9c7-440c-aba9-540c92c6b542",
        "colab": {
          "base_uri": "https://localhost:8080/",
          "height": 207
        }
      },
      "source": [
        "path = '/tmp/'\n",
        "\n",
        "# Glove 300D embeddings\n",
        "!gdown --id '1Bn1s3w4eETF3yDHJmhLXNOPSN7q29sey' --output '/tmp/glove.6B.300d.txt'\n",
        "\n",
        "# Amazon Electronics dataset\n",
        "!gdown --id '1JE38UqpHNFycbi3B6gOu4OksjVhck8bP' --output '/tmp/Electronics_5.csv'\n",
        "dataset_filename = 'Electronics_5.csv'\n",
        "df = pd.read_csv(path + dataset_filename)"
      ],
      "execution_count": 3,
      "outputs": [
        {
          "output_type": "stream",
          "text": [
            "Downloading...\n",
            "From: https://drive.google.com/uc?id=1Bn1s3w4eETF3yDHJmhLXNOPSN7q29sey\n",
            "To: /tmp/glove.6B.300d.txt\n",
            "1.04GB [00:13, 75.1MB/s]\n",
            "Downloading...\n",
            "From: https://drive.google.com/uc?id=1JE38UqpHNFycbi3B6gOu4OksjVhck8bP\n",
            "To: /tmp/Electronics_5.csv\n",
            "548MB [00:12, 42.4MB/s]\n"
          ],
          "name": "stdout"
        },
        {
          "output_type": "stream",
          "text": [
            "/usr/local/lib/python3.6/dist-packages/IPython/core/interactiveshell.py:2718: DtypeWarning: Columns (2) have mixed types.Specify dtype option on import or set low_memory=False.\n",
            "  interactivity=interactivity, compiler=compiler, result=result)\n"
          ],
          "name": "stderr"
        }
      ]
    },
    {
      "cell_type": "code",
      "metadata": {
        "colab_type": "code",
        "id": "jWWHu9Z3-r3P",
        "outputId": "410e5549-0500-42b6-db2f-d500c27323ed",
        "colab": {
          "base_uri": "https://localhost:8080/",
          "height": 419
        }
      },
      "source": [
        "df['reviewText'] = df['reviewText'].astype(str)\n",
        "df['vote'] = df['vote'].str.replace(',','').fillna(0)\n",
        "df['overall'] = df['overall'].fillna(0)\n",
        "df['vote'] = pd.to_numeric(df['vote'])\n",
        "df['overall'] = pd.to_numeric(df['overall'])\n",
        "df = df.filter(['vote','overall','reviewText', 'reviewTime'], axis=1)\n",
        "df.columns = ['useful', 'stars', 'text', 'date']\n",
        "df"
      ],
      "execution_count": 4,
      "outputs": [
        {
          "output_type": "execute_result",
          "data": {
            "text/html": [
              "<div>\n",
              "<style scoped>\n",
              "    .dataframe tbody tr th:only-of-type {\n",
              "        vertical-align: middle;\n",
              "    }\n",
              "\n",
              "    .dataframe tbody tr th {\n",
              "        vertical-align: top;\n",
              "    }\n",
              "\n",
              "    .dataframe thead th {\n",
              "        text-align: right;\n",
              "    }\n",
              "</style>\n",
              "<table border=\"1\" class=\"dataframe\">\n",
              "  <thead>\n",
              "    <tr style=\"text-align: right;\">\n",
              "      <th></th>\n",
              "      <th>useful</th>\n",
              "      <th>stars</th>\n",
              "      <th>text</th>\n",
              "      <th>date</th>\n",
              "    </tr>\n",
              "  </thead>\n",
              "  <tbody>\n",
              "    <tr>\n",
              "      <th>0</th>\n",
              "      <td>67</td>\n",
              "      <td>5.0</td>\n",
              "      <td>This is the best novel I have read in 2 or 3 y...</td>\n",
              "      <td>09 18, 1999</td>\n",
              "    </tr>\n",
              "    <tr>\n",
              "      <th>1</th>\n",
              "      <td>5</td>\n",
              "      <td>3.0</td>\n",
              "      <td>Pages and pages of introspection, in the style...</td>\n",
              "      <td>10 23, 2013</td>\n",
              "    </tr>\n",
              "    <tr>\n",
              "      <th>2</th>\n",
              "      <td>4</td>\n",
              "      <td>5.0</td>\n",
              "      <td>This is the kind of novel to read when you hav...</td>\n",
              "      <td>09 2, 2008</td>\n",
              "    </tr>\n",
              "    <tr>\n",
              "      <th>3</th>\n",
              "      <td>13</td>\n",
              "      <td>5.0</td>\n",
              "      <td>What gorgeous language! What an incredible wri...</td>\n",
              "      <td>09 4, 2000</td>\n",
              "    </tr>\n",
              "    <tr>\n",
              "      <th>4</th>\n",
              "      <td>8</td>\n",
              "      <td>3.0</td>\n",
              "      <td>I was taken in by reviews that compared this b...</td>\n",
              "      <td>02 4, 2000</td>\n",
              "    </tr>\n",
              "    <tr>\n",
              "      <th>...</th>\n",
              "      <td>...</td>\n",
              "      <td>...</td>\n",
              "      <td>...</td>\n",
              "      <td>...</td>\n",
              "    </tr>\n",
              "    <tr>\n",
              "      <th>999995</th>\n",
              "      <td>2</td>\n",
              "      <td>5.0</td>\n",
              "      <td>The Netgear Router is my first experience with...</td>\n",
              "      <td>06 19, 2008</td>\n",
              "    </tr>\n",
              "    <tr>\n",
              "      <th>999996</th>\n",
              "      <td>2</td>\n",
              "      <td>5.0</td>\n",
              "      <td>This router targets people who want custom fir...</td>\n",
              "      <td>06 18, 2008</td>\n",
              "    </tr>\n",
              "    <tr>\n",
              "      <th>999997</th>\n",
              "      <td>3</td>\n",
              "      <td>4.0</td>\n",
              "      <td>This router is great for what it's advertised ...</td>\n",
              "      <td>06 13, 2008</td>\n",
              "    </tr>\n",
              "    <tr>\n",
              "      <th>999998</th>\n",
              "      <td>3</td>\n",
              "      <td>5.0</td>\n",
              "      <td>I popped the CD into my PC and followed the in...</td>\n",
              "      <td>05 31, 2008</td>\n",
              "    </tr>\n",
              "    <tr>\n",
              "      <th>999999</th>\n",
              "      <td>5</td>\n",
              "      <td>4.0</td>\n",
              "      <td>This wireless -g router appears to be adequate...</td>\n",
              "      <td>05 29, 2008</td>\n",
              "    </tr>\n",
              "  </tbody>\n",
              "</table>\n",
              "<p>1000000 rows × 4 columns</p>\n",
              "</div>"
            ],
            "text/plain": [
              "        useful  ...         date\n",
              "0           67  ...  09 18, 1999\n",
              "1            5  ...  10 23, 2013\n",
              "2            4  ...   09 2, 2008\n",
              "3           13  ...   09 4, 2000\n",
              "4            8  ...   02 4, 2000\n",
              "...        ...  ...          ...\n",
              "999995       2  ...  06 19, 2008\n",
              "999996       2  ...  06 18, 2008\n",
              "999997       3  ...  06 13, 2008\n",
              "999998       3  ...  05 31, 2008\n",
              "999999       5  ...  05 29, 2008\n",
              "\n",
              "[1000000 rows x 4 columns]"
            ]
          },
          "metadata": {
            "tags": []
          },
          "execution_count": 4
        }
      ]
    },
    {
      "cell_type": "markdown",
      "metadata": {
        "colab_type": "text",
        "id": "frneoR33tdEl"
      },
      "source": [
        "## Data Analysis"
      ]
    },
    {
      "cell_type": "code",
      "metadata": {
        "colab_type": "code",
        "id": "Oj64hlMF_H0Z",
        "outputId": "2f5c6e7a-46dc-451d-f975-03f5f321b10e",
        "colab": {
          "base_uri": "https://localhost:8080/",
          "height": 244
        }
      },
      "source": [
        "# Plot distributions of useful votes, text length and review scores\n",
        "plt.figure(figsize=(12,3))\n",
        "f, (ax1, ax2, ax3) = plt.subplots(1,3, figsize=(12,3))\n",
        "ax1.hist(df['useful'], range=(0, 100), bins=100);\n",
        "ax2.hist(df['text'].str.len(), bins=100);\n",
        "ax3.hist(df['stars'], range=(0.5, 5.5), bins=5);\n",
        "ax1.title.set_text('Useful Votes');\n",
        "ax2.title.set_text('Text Length (by char)');\n",
        "ax3.title.set_text('Review Scores');"
      ],
      "execution_count": 5,
      "outputs": [
        {
          "output_type": "display_data",
          "data": {
            "text/plain": [
              "<Figure size 864x216 with 0 Axes>"
            ]
          },
          "metadata": {
            "tags": []
          }
        },
        {
          "output_type": "display_data",
          "data": {
            "image/png": "[encoded data removed]",
            "text/plain": [
              "<Figure size 864x216 with 3 Axes>"
            ]
          },
          "metadata": {
            "tags": [],
            "needs_background": "light"
          }
        }
      ]
    },
    {
      "cell_type": "code",
      "metadata": {
        "colab_type": "code",
        "id": "4S8t9hEJuaak",
        "outputId": "7a630a32-efcd-413f-ab9c-a29019aeec0a",
        "colab": {
          "base_uri": "https://localhost:8080/",
          "height": 374
        }
      },
      "source": [
        "# Count of reviews by useful votes\n",
        "df[\"useful\"].value_counts()[:20]"
      ],
      "execution_count": 6,
      "outputs": [
        {
          "output_type": "execute_result",
          "data": {
            "text/plain": [
              "0     817046\n",
              "2      49766\n",
              "3      28965\n",
              "4      18299\n",
              "5      13018\n",
              "6       9615\n",
              "7       7438\n",
              "8       5832\n",
              "9       4889\n",
              "10      4016\n",
              "11      3410\n",
              "12      2892\n",
              "13      2542\n",
              "14      2188\n",
              "15      1991\n",
              "16      1751\n",
              "17      1538\n",
              "18      1390\n",
              "19      1241\n",
              "20      1117\n",
              "Name: useful, dtype: int64"
            ]
          },
          "metadata": {
            "tags": []
          },
          "execution_count": 6
        }
      ]
    },
    {
      "cell_type": "code",
      "metadata": {
        "colab_type": "code",
        "id": "atzOMCvQDle8",
        "outputId": "8a82f39b-604c-43be-8abc-9cff144b9b06",
        "colab": {
          "base_uri": "https://localhost:8080/",
          "height": 51
        }
      },
      "source": [
        "print(\"Oldest review: {}\".format(df['date'].min()))\n",
        "print(\"Latest review: {}\".format(df['date'].max()))"
      ],
      "execution_count": 7,
      "outputs": [
        {
          "output_type": "stream",
          "text": [
            "Oldest review: 01 1, 2000\n",
            "Latest review: 12 9, 2017\n"
          ],
          "name": "stdout"
        }
      ]
    },
    {
      "cell_type": "markdown",
      "metadata": {
        "colab_type": "text",
        "id": "zLn_hPcyuuTV"
      },
      "source": [
        "## Dataset Preparation"
      ]
    },
    {
      "cell_type": "markdown",
      "metadata": {
        "id": "Lmg4EEMv_AV4",
        "colab_type": "text"
      },
      "source": [
        "We treat the prediction of review usefulness as a binary classification task. Here, we define a useful review as one with >=9 useful votes."
      ]
    },
    {
      "cell_type": "code",
      "metadata": {
        "colab_type": "code",
        "id": "uBLNlZ_mBRyn",
        "outputId": "cd7dbb48-b2d7-4778-91cc-4b2a79746c7a",
        "colab": {
          "base_uri": "https://localhost:8080/",
          "height": 34
        }
      },
      "source": [
        "# Threshold for deciding whether a review is useful or not\n",
        "threshold = 9\n",
        "useful_count = len(df[df['useful'] >= threshold]) # Count of reviews with >= X votes\n",
        "useful_count"
      ],
      "execution_count": 8,
      "outputs": [
        {
          "output_type": "execute_result",
          "data": {
            "text/plain": [
              "50021"
            ]
          },
          "metadata": {
            "tags": []
          },
          "execution_count": 8
        }
      ]
    },
    {
      "cell_type": "code",
      "metadata": {
        "colab_type": "code",
        "id": "6THoZJBeEWhv",
        "outputId": "9a6c227d-d6d4-4b09-e1e9-03d564d2c501",
        "colab": {
          "base_uri": "https://localhost:8080/",
          "height": 419
        }
      },
      "source": [
        "# Construct balanced dataset by downsampling non-useful reviews\n",
        "# Can consider upsampling useful reviews instead if we have enough capacity to train lots of data on Colab\n",
        "balanced_df = df[df['useful'] >= threshold].sample(50000, random_state = seed)\n",
        "balanced_df = pd.concat([balanced_df, df[df['useful'] < threshold].sample(50000, random_state = seed)])\n",
        "balanced_df"
      ],
      "execution_count": 9,
      "outputs": [
        {
          "output_type": "execute_result",
          "data": {
            "text/html": [
              "<div>\n",
              "<style scoped>\n",
              "    .dataframe tbody tr th:only-of-type {\n",
              "        vertical-align: middle;\n",
              "    }\n",
              "\n",
              "    .dataframe tbody tr th {\n",
              "        vertical-align: top;\n",
              "    }\n",
              "\n",
              "    .dataframe thead th {\n",
              "        text-align: right;\n",
              "    }\n",
              "</style>\n",
              "<table border=\"1\" class=\"dataframe\">\n",
              "  <thead>\n",
              "    <tr style=\"text-align: right;\">\n",
              "      <th></th>\n",
              "      <th>useful</th>\n",
              "      <th>stars</th>\n",
              "      <th>text</th>\n",
              "      <th>date</th>\n",
              "    </tr>\n",
              "  </thead>\n",
              "  <tbody>\n",
              "    <tr>\n",
              "      <th>181986</th>\n",
              "      <td>9</td>\n",
              "      <td>4.0</td>\n",
              "      <td>Whoa!  What a neat package.  Simple mic with j...</td>\n",
              "      <td>07 15, 2011</td>\n",
              "    </tr>\n",
              "    <tr>\n",
              "      <th>784109</th>\n",
              "      <td>17</td>\n",
              "      <td>5.0</td>\n",
              "      <td>This is a great camcorder. I use the highest q...</td>\n",
              "      <td>06 18, 2008</td>\n",
              "    </tr>\n",
              "    <tr>\n",
              "      <th>130169</th>\n",
              "      <td>29</td>\n",
              "      <td>5.0</td>\n",
              "      <td>After extensive research, I decided on this ca...</td>\n",
              "      <td>03 28, 2003</td>\n",
              "    </tr>\n",
              "    <tr>\n",
              "      <th>388072</th>\n",
              "      <td>15</td>\n",
              "      <td>1.0</td>\n",
              "      <td>Ordered this Tiffin filter as part of the purc...</td>\n",
              "      <td>01 21, 2011</td>\n",
              "    </tr>\n",
              "    <tr>\n",
              "      <th>812642</th>\n",
              "      <td>14</td>\n",
              "      <td>2.0</td>\n",
              "      <td>This would be a great network appliance if I w...</td>\n",
              "      <td>04 23, 2008</td>\n",
              "    </tr>\n",
              "    <tr>\n",
              "      <th>...</th>\n",
              "      <td>...</td>\n",
              "      <td>...</td>\n",
              "      <td>...</td>\n",
              "      <td>...</td>\n",
              "    </tr>\n",
              "    <tr>\n",
              "      <th>109878</th>\n",
              "      <td>0</td>\n",
              "      <td>3.0</td>\n",
              "      <td>A portable device with more bulk than expected...</td>\n",
              "      <td>11 30, 2007</td>\n",
              "    </tr>\n",
              "    <tr>\n",
              "      <th>662412</th>\n",
              "      <td>0</td>\n",
              "      <td>4.0</td>\n",
              "      <td>Thanx</td>\n",
              "      <td>12 27, 2014</td>\n",
              "    </tr>\n",
              "    <tr>\n",
              "      <th>404</th>\n",
              "      <td>0</td>\n",
              "      <td>5.0</td>\n",
              "      <td>Great mount used it on my \"32 TV and not I can...</td>\n",
              "      <td>07 27, 2015</td>\n",
              "    </tr>\n",
              "    <tr>\n",
              "      <th>763804</th>\n",
              "      <td>0</td>\n",
              "      <td>5.0</td>\n",
              "      <td>The memory card reader works great and is easy...</td>\n",
              "      <td>10 3, 2013</td>\n",
              "    </tr>\n",
              "    <tr>\n",
              "      <th>639241</th>\n",
              "      <td>0</td>\n",
              "      <td>4.0</td>\n",
              "      <td>I used the free trial of Network Magic to set ...</td>\n",
              "      <td>04 2, 2009</td>\n",
              "    </tr>\n",
              "  </tbody>\n",
              "</table>\n",
              "<p>100000 rows × 4 columns</p>\n",
              "</div>"
            ],
            "text/plain": [
              "        useful  ...         date\n",
              "181986       9  ...  07 15, 2011\n",
              "784109      17  ...  06 18, 2008\n",
              "130169      29  ...  03 28, 2003\n",
              "388072      15  ...  01 21, 2011\n",
              "812642      14  ...  04 23, 2008\n",
              "...        ...  ...          ...\n",
              "109878       0  ...  11 30, 2007\n",
              "662412       0  ...  12 27, 2014\n",
              "404          0  ...  07 27, 2015\n",
              "763804       0  ...   10 3, 2013\n",
              "639241       0  ...   04 2, 2009\n",
              "\n",
              "[100000 rows x 4 columns]"
            ]
          },
          "metadata": {
            "tags": []
          },
          "execution_count": 9
        }
      ]
    },
    {
      "cell_type": "code",
      "metadata": {
        "colab_type": "code",
        "id": "CgDROAxJE8z5",
        "colab": {}
      },
      "source": [
        "# Split into train/dev/test at 80%/10%/10%\n",
        "df2 = balanced_df.drop(labels=[\"date\"], axis=1)\n",
        "df2 = df2.reindex(columns=[\"text\", \"useful\", \"stars\"])\n",
        "df2['useful'] = np.where(df2['useful'] >= threshold, 1, 0) # Convert 'useful' into binary labels\n",
        "df2['stars'] = df2['stars'].astype('long')\n",
        "\n",
        "train, val, test = np.split(df2.sample(frac=1, random_state=seed), [int(.8*len(df2)), int(.9*len(df2))])"
      ],
      "execution_count": 0,
      "outputs": []
    },
    {
      "cell_type": "code",
      "metadata": {
        "colab_type": "code",
        "id": "qSq4RT6I_f6t",
        "outputId": "dea21545-ba35-4afb-8d17-3f466a208f6d",
        "colab": {
          "base_uri": "https://localhost:8080/",
          "height": 419
        }
      },
      "source": [
        "train"
      ],
      "execution_count": 11,
      "outputs": [
        {
          "output_type": "execute_result",
          "data": {
            "text/html": [
              "<div>\n",
              "<style scoped>\n",
              "    .dataframe tbody tr th:only-of-type {\n",
              "        vertical-align: middle;\n",
              "    }\n",
              "\n",
              "    .dataframe tbody tr th {\n",
              "        vertical-align: top;\n",
              "    }\n",
              "\n",
              "    .dataframe thead th {\n",
              "        text-align: right;\n",
              "    }\n",
              "</style>\n",
              "<table border=\"1\" class=\"dataframe\">\n",
              "  <thead>\n",
              "    <tr style=\"text-align: right;\">\n",
              "      <th></th>\n",
              "      <th>text</th>\n",
              "      <th>useful</th>\n",
              "      <th>stars</th>\n",
              "    </tr>\n",
              "  </thead>\n",
              "  <tbody>\n",
              "    <tr>\n",
              "      <th>597703</th>\n",
              "      <td>Let me start by saying that I am picky and a b...</td>\n",
              "      <td>1</td>\n",
              "      <td>3</td>\n",
              "    </tr>\n",
              "    <tr>\n",
              "      <th>862033</th>\n",
              "      <td>Just wanted a non-cable TV for kitchen.  Doesn...</td>\n",
              "      <td>0</td>\n",
              "      <td>3</td>\n",
              "    </tr>\n",
              "    <tr>\n",
              "      <th>823996</th>\n",
              "      <td>I purchased this to connect a pair of headphon...</td>\n",
              "      <td>0</td>\n",
              "      <td>5</td>\n",
              "    </tr>\n",
              "    <tr>\n",
              "      <th>255531</th>\n",
              "      <td>I purchased the MDX1600 to work on improving t...</td>\n",
              "      <td>1</td>\n",
              "      <td>5</td>\n",
              "    </tr>\n",
              "    <tr>\n",
              "      <th>665792</th>\n",
              "      <td>If you order a lot of CDs from Amazon, then we...</td>\n",
              "      <td>1</td>\n",
              "      <td>5</td>\n",
              "    </tr>\n",
              "    <tr>\n",
              "      <th>...</th>\n",
              "      <td>...</td>\n",
              "      <td>...</td>\n",
              "      <td>...</td>\n",
              "    </tr>\n",
              "    <tr>\n",
              "      <th>621925</th>\n",
              "      <td>haven't used it yet its in my earth quake disa...</td>\n",
              "      <td>0</td>\n",
              "      <td>4</td>\n",
              "    </tr>\n",
              "    <tr>\n",
              "      <th>8633</th>\n",
              "      <td>Bought this for a spare just in case.....It lo...</td>\n",
              "      <td>0</td>\n",
              "      <td>5</td>\n",
              "    </tr>\n",
              "    <tr>\n",
              "      <th>529362</th>\n",
              "      <td>It is ok, but it is slap when it us connected.</td>\n",
              "      <td>0</td>\n",
              "      <td>3</td>\n",
              "    </tr>\n",
              "    <tr>\n",
              "      <th>360247</th>\n",
              "      <td>Excellent radio and reception in this mostly r...</td>\n",
              "      <td>1</td>\n",
              "      <td>5</td>\n",
              "    </tr>\n",
              "    <tr>\n",
              "      <th>497998</th>\n",
              "      <td>I am writing a review regarding the SONY KDL-4...</td>\n",
              "      <td>1</td>\n",
              "      <td>5</td>\n",
              "    </tr>\n",
              "  </tbody>\n",
              "</table>\n",
              "<p>80000 rows × 3 columns</p>\n",
              "</div>"
            ],
            "text/plain": [
              "                                                     text  useful  stars\n",
              "597703  Let me start by saying that I am picky and a b...       1      3\n",
              "862033  Just wanted a non-cable TV for kitchen.  Doesn...       0      3\n",
              "823996  I purchased this to connect a pair of headphon...       0      5\n",
              "255531  I purchased the MDX1600 to work on improving t...       1      5\n",
              "665792  If you order a lot of CDs from Amazon, then we...       1      5\n",
              "...                                                   ...     ...    ...\n",
              "621925  haven't used it yet its in my earth quake disa...       0      4\n",
              "8633    Bought this for a spare just in case.....It lo...       0      5\n",
              "529362     It is ok, but it is slap when it us connected.       0      3\n",
              "360247  Excellent radio and reception in this mostly r...       1      5\n",
              "497998  I am writing a review regarding the SONY KDL-4...       1      5\n",
              "\n",
              "[80000 rows x 3 columns]"
            ]
          },
          "metadata": {
            "tags": []
          },
          "execution_count": 11
        }
      ]
    },
    {
      "cell_type": "markdown",
      "metadata": {
        "id": "DWV82X4BwLxw",
        "colab_type": "text"
      },
      "source": [
        "<font color='red'>**TARGET**</font>\n",
        "\n",
        "Here, we define the target with which the model will train on. To train the model on review sentiment, set target to 'stars'."
      ]
    },
    {
      "cell_type": "code",
      "metadata": {
        "id": "wtnJyDrawI5i",
        "colab_type": "code",
        "colab": {}
      },
      "source": [
        "target = 'useful'"
      ],
      "execution_count": 0,
      "outputs": []
    },
    {
      "cell_type": "markdown",
      "metadata": {
        "colab_type": "text",
        "id": "Q8iOC05rXXyW"
      },
      "source": [
        "## Pre-processing"
      ]
    },
    {
      "cell_type": "markdown",
      "metadata": {
        "id": "B4vI8Z98NSHR",
        "colab_type": "text"
      },
      "source": [
        "<font color='red'>**SPLIT_SENTENCES**</font>\n",
        "\n",
        "Since a document can be viewed as having a hierarchical structure where words forms sentences, and sentences form the document, we will require the sentences to be split. We set a flag here so we can choose to treat the entire document as a single data point for other attention models which treats a document as a single entity of words."
      ]
    },
    {
      "cell_type": "code",
      "metadata": {
        "colab_type": "code",
        "id": "8xbqJwao2Nl7",
        "colab": {}
      },
      "source": [
        "# Whether to split sentences or not (True for HAN, False for other attention models)\n",
        "split_sentences = True"
      ],
      "execution_count": 0,
      "outputs": []
    },
    {
      "cell_type": "code",
      "metadata": {
        "colab_type": "code",
        "id": "qjX_cz4ubAXP",
        "colab": {}
      },
      "source": [
        "tokenizer = nltk.tokenize.punkt.PunktSentenceTokenizer()\n",
        "\n",
        "# Split each review into sentences\n",
        "def generate_texts_sents(dataset):\n",
        "  texts_sents = []\n",
        "  for doc in dataset:\n",
        "      texts_sents.append(tokenizer.tokenize(doc))\n",
        "  return texts_sents"
      ],
      "execution_count": 0,
      "outputs": []
    },
    {
      "cell_type": "code",
      "metadata": {
        "colab_type": "code",
        "id": "7-hUuGeYyPNt",
        "outputId": "bb206262-1f7d-41ca-e28c-916d5cc91ca7",
        "colab": {
          "base_uri": "https://localhost:8080/",
          "height": 54
        }
      },
      "source": [
        "if split_sentences:\n",
        "    # Split each review into sentences\n",
        "    train_texts_sents = generate_texts_sents(train.text.tolist())\n",
        "    val_texts_sents = generate_texts_sents(val.text.tolist())\n",
        "    test_texts_sents = generate_texts_sents(test.text.tolist())\n",
        "\n",
        "    # Flatten all sentences in reviews into 1 long list of sentences\n",
        "    train_all_sents = [s for sents in train_texts_sents for s in sents]\n",
        "    val_all_sents = [s for sents in val_texts_sents for s in sents]\n",
        "    test_all_sents = [s for sents in test_texts_sents for s in sents]\n",
        "\n",
        "    # Save the lengths of the documents: 1) for padding purposes and 2) to compute consecutive ranges \n",
        "    # so we can \"fold\" the list again\n",
        "    train_texts_length = [0] + [len(s) for s in train_texts_sents]\n",
        "    val_texts_length = [0] + [len(s) for s in val_texts_sents]\n",
        "    test_texts_length = [0] + [len(s) for s in test_texts_sents]\n",
        "\n",
        "    train_range_idx = [sum(train_texts_length[: i + 1]) for i in range(len(train_texts_length))]\n",
        "    val_range_idx = [sum(val_texts_length[: i + 1]) for i in range(len(val_texts_length))]\n",
        "    test_range_idx = [sum(test_texts_length[: i + 1]) for i in range(len(test_texts_length))]\n",
        "\n",
        "    print(val_texts_sents[0])"
      ],
      "execution_count": 15,
      "outputs": [
        {
          "output_type": "stream",
          "text": [
            "['At the suggested retail price, I would never have made this purchase, but because it was a reasonable Gold Box offer, I leapt toward my first bluetooth earpiece.', \"The pink was not a selling point, but I preferred that to a more common black contraption, and I'm not at all disappointed.\", \"It's more of a mauve than pink which was more pleasing to me.\", 'It synched up immediately with my cell phone and I suspect it will do the same when this phone is replaced in 2009.', 'The manual was easy to read and understand and I had no difficulty placing the earpiece into the lovely leather carrying case/charger or removing it to use.', 'Although some have complained about short battery time, I have not experienced that and have not have the battery die at any time.', 'It is easy to check the battery level by depressing the two buttons on the device and observing the number of red flashes for remaining power.', \"The small size might be easy to lose for some, but I'm aware of that possibility and exercise caution when I put it in my bag or pocket.\", 'Because of that small size, it takes only a second to plug the earpiece into the ear and I do not wear it unless I am on a call.', \"Realizing that it's lightweight, I am also cautious in more windy situations.\", 'I had only one experience with a less than perfect call and was a bit disturbed until I realized the static was generated from the other end of the call.', \"In general, I like the fit, clarity, ease of use, and don't feel like I have a growth erupting from my ear.\", \"I'd buy this again.\"]\n"
          ],
          "name": "stdout"
        }
      ]
    },
    {
      "cell_type": "code",
      "metadata": {
        "colab_type": "code",
        "id": "yYvUifhubbur",
        "colab": {}
      },
      "source": [
        "# Convert to lowercase / Remove accent marks / Limit min & max length of token\n",
        "def simple_preprocess(doc, lower=True, deacc=False, min_len=2, max_len=15):\n",
        "    tokens = [\n",
        "        token\n",
        "        for token in tokenize(doc, lower=lower, deacc=deacc, errors=\"ignore\")\n",
        "        # if min_len <= len(token) <= max_len and not token.startswith(\"_\")\n",
        "    ]\n",
        "    return tokens\n",
        "\n",
        "# Generate word tokens for review\n",
        "def tokenize_review(texts, with_preprocess=True):\n",
        "    if with_preprocess:\n",
        "        texts = [\" \".join(simple_preprocess(s)) for s in texts]\n",
        "    tokenizer = Tokenizer()\n",
        "    tok = SpacyTokenizer('en')\n",
        "    tokens = []\n",
        "    for text in texts:\n",
        "      tokens.append(tokenizer.process_text(text, tok))\n",
        "    return tokens"
      ],
      "execution_count": 0,
      "outputs": []
    },
    {
      "cell_type": "code",
      "metadata": {
        "colab_type": "code",
        "id": "rdCde4p-b3P4",
        "outputId": "63d7e8c8-9685-4687-dd96-7f0311497a44",
        "colab": {
          "base_uri": "https://localhost:8080/",
          "height": 54
        }
      },
      "source": [
        "if split_sentences:\n",
        "  train_sents_tokens = tokenize_review(train_all_sents)\n",
        "  val_sents_tokens = tokenize_review(val_all_sents)\n",
        "  test_sents_tokens = tokenize_review(test_all_sents)\n",
        "  print(val_sents_tokens[0])\n",
        "else: \n",
        "  train_tokens = tokenize_review(train.text.tolist())\n",
        "  val_tokens = tokenize_review(val.text.tolist())\n",
        "  test_tokens = tokenize_review(test.text.tolist())\n",
        "  print(val_tokens[0])"
      ],
      "execution_count": 17,
      "outputs": [
        {
          "output_type": "stream",
          "text": [
            "['at', 'the', 'suggested', 'retail', 'price', 'i', 'would', 'never', 'have', 'made', 'this', 'purchase', 'but', 'because', 'it', 'was', 'a', 'reasonable', 'gold', 'box', 'offer', 'i', 'leapt', 'toward', 'my', 'first', 'bluetooth', 'earpiece']\n"
          ],
          "name": "stdout"
        }
      ]
    },
    {
      "cell_type": "code",
      "metadata": {
        "colab_type": "code",
        "id": "oB34NRBrcSqk",
        "colab": {}
      },
      "source": [
        "# Create Vocabulary using fastai's Vocab class\n",
        "vocab = Vocab.create(train_sents_tokens if split_sentences else train_tokens, max_vocab=10000, min_freq=5)"
      ],
      "execution_count": 0,
      "outputs": []
    },
    {
      "cell_type": "code",
      "metadata": {
        "colab_type": "code",
        "id": "uJFElyULcWp9",
        "outputId": "fd189173-99f8-43d4-d8b1-77ba27d109fa",
        "colab": {
          "base_uri": "https://localhost:8080/",
          "height": 54
        }
      },
      "source": [
        "if split_sentences:\n",
        "  # 'numericalize' each sentence\n",
        "  train_sents_numz = [vocab.numericalize(s) for s in train_sents_tokens]\n",
        "  val_sents_numz = [vocab.numericalize(s) for s in val_sents_tokens]\n",
        "  test_sents_numz = [vocab.numericalize(s) for s in test_sents_tokens]\n",
        "\n",
        "  # group the sentences again into documents\n",
        "  train_texts_numz = [train_sents_numz[train_range_idx[i] : train_range_idx[i + 1]] for i in range(len(train_range_idx[:-1]))]\n",
        "  val_texts_numz = [val_sents_numz[val_range_idx[i] : val_range_idx[i + 1]] for i in range(len(val_range_idx[:-1]))]\n",
        "  test_texts_numz = [test_sents_numz[test_range_idx[i] : test_range_idx[i + 1]] for i in range(len(test_range_idx[:-1]))]\n",
        "\n",
        "  print(val_texts_numz[0])\n",
        "else:\n",
        "  train_texts_numz = [vocab.numericalize(s) for s in train_tokens]\n",
        "  val_texts_numz = [vocab.numericalize(s) for s in val_tokens]\n",
        "  test_texts_numz = [vocab.numericalize(s) for s in test_tokens]\n",
        "\n",
        "  print(val_texts_numz[0])"
      ],
      "execution_count": 19,
      "outputs": [
        {
          "output_type": "stream",
          "text": [
            "[[38, 9, 2439, 2262, 89, 10, 61, 212, 25, 193, 17, 317, 26, 93, 14, 32, 11, 1167, 2154, 237, 1113, 10, 0, 3097, 24, 114, 855, 3776], [9, 3545, 32, 27, 11, 1498, 263, 26, 10, 2496, 21, 12, 11, 57, 1320, 411, 9873, 13, 10, 84, 27, 38, 41, 712], [14, 28, 57, 16, 11, 0, 62, 3545, 69, 32, 57, 2708, 12, 66], [14, 0, 49, 958, 22, 24, 1078, 384, 13, 10, 1951, 14, 50, 75, 9, 142, 48, 17, 384, 15, 846, 20], [9, 271, 32, 124, 12, 243, 13, 878, 13, 10, 60, 58, 2783, 3268, 9, 3776, 109, 9, 4439, 1763, 1009, 148, 570, 37, 2050, 14, 12, 44], [385, 73, 25, 2249, 64, 459, 122, 79, 10, 25, 27, 1476, 21, 13, 25, 27, 25, 9, 122, 2617, 38, 85, 79], [14, 15, 124, 12, 705, 9, 122, 439, 82, 8514, 9, 112, 410, 23, 9, 195, 13, 6480, 9, 534, 16, 787, 2271, 18, 2901, 126], [9, 135, 205, 313, 34, 124, 12, 1116, 18, 73, 26, 10, 84, 1408, 16, 21, 4393, 13, 4008, 3178, 48, 10, 227, 14, 20, 24, 259, 37, 537], [93, 16, 21, 135, 205, 14, 392, 68, 11, 339, 12, 287, 9, 3776, 109, 9, 415, 13, 10, 75, 27, 998, 14, 543, 10, 96, 23, 11, 733], [6337, 21, 14, 28, 1317, 10, 96, 74, 7656, 20, 57, 6760, 1191], [10, 60, 68, 39, 470, 22, 11, 221, 62, 275, 733, 13, 32, 11, 178, 0, 440, 10, 1675, 9, 1294, 32, 5209, 43, 9, 72, 245, 16, 9, 733], [20, 1145, 10, 55, 9, 257, 1219, 1121, 16, 44, 13, 80, 29, 341, 55, 10, 25, 11, 0, 0, 43, 24, 415], [10, 91, 118, 17, 230]]\n"
          ],
          "name": "stdout"
        }
      ]
    },
    {
      "cell_type": "code",
      "metadata": {
        "colab_type": "code",
        "id": "Eof16bhAci-C",
        "outputId": "a7fd245d-83c4-4331-88f5-5800099f42c8",
        "colab": {
          "base_uri": "https://localhost:8080/",
          "height": 71
        }
      },
      "source": [
        "# Validate tokenisation and vocab building works\n",
        "if split_sentences:\n",
        "  print(val_sents_tokens[0])\n",
        "  print([vocab.itos[i] for i in val_texts_numz[0][0]])\n",
        "else:\n",
        "  print(val_tokens[0])\n",
        "  print([vocab.itos[i] for i in val_texts_numz[0]])"
      ],
      "execution_count": 20,
      "outputs": [
        {
          "output_type": "stream",
          "text": [
            "['at', 'the', 'suggested', 'retail', 'price', 'i', 'would', 'never', 'have', 'made', 'this', 'purchase', 'but', 'because', 'it', 'was', 'a', 'reasonable', 'gold', 'box', 'offer', 'i', 'leapt', 'toward', 'my', 'first', 'bluetooth', 'earpiece']\n",
            "['at', 'the', 'suggested', 'retail', 'price', 'i', 'would', 'never', 'have', 'made', 'this', 'purchase', 'but', 'because', 'it', 'was', 'a', 'reasonable', 'gold', 'box', 'offer', 'i', 'xxunk', 'toward', 'my', 'first', 'bluetooth', 'earpiece']\n"
          ],
          "name": "stdout"
        }
      ]
    },
    {
      "cell_type": "markdown",
      "metadata": {
        "id": "1A3WYVuK-vgr",
        "colab_type": "text"
      },
      "source": [
        "We restrict the max sentence length and document length using 80th quantile."
      ]
    },
    {
      "cell_type": "code",
      "metadata": {
        "colab_type": "code",
        "id": "jcGPGZUudnLE",
        "outputId": "f9caa534-cbec-4e5a-a44f-23de1aa8de10",
        "colab": {
          "base_uri": "https://localhost:8080/",
          "height": 51
        }
      },
      "source": [
        "\n",
        "q=0.8\n",
        "\n",
        "if split_sentences:\n",
        "  train_sents_length = [len(s) for s in train_sents_tokens]\n",
        "  maxlen_sent = int(np.quantile(train_sents_length, q=q))\n",
        "  maxlen_doc  = int(np.quantile(train_texts_length, q=q))\n",
        "\n",
        "  print(\"Max Sentence Length: {}\".format(maxlen_sent))\n",
        "  print(\"Max Document Length: {}\".format(maxlen_doc))\n",
        "else:\n",
        "  train_length = [len(s) for s in train_tokens]\n",
        "  maxlen_sent  = int(np.quantile(train_length, q=q))\n",
        "  maxlen_doc = 1\n",
        "  print(\"Max Review Length: {}\".format(maxlen_sent))"
      ],
      "execution_count": 21,
      "outputs": [
        {
          "output_type": "stream",
          "text": [
            "Max Sentence Length: 24\n",
            "Max Document Length: 15\n"
          ],
          "name": "stdout"
        }
      ]
    },
    {
      "cell_type": "code",
      "metadata": {
        "colab_type": "code",
        "id": "f7DZtoSmH_Or",
        "outputId": "f04b21a6-a77e-4a1a-dc2f-74bbd04bd779",
        "colab": {
          "base_uri": "https://localhost:8080/",
          "height": 227
        }
      },
      "source": [
        "# Distribution of sentence and document length\n",
        "\n",
        "if split_sentences:\n",
        "  f, (ax1, ax2) = plt.subplots(1,2, figsize=(12,3))\n",
        "  ax1.hist(train_sents_length, range=(0, 100), bins=100);\n",
        "  ax2.hist(train_texts_length, range=(0, 100), bins=100);\n",
        "  ax1.title.set_text('Sentence Length');\n",
        "  ax2.title.set_text('Document Length');\n",
        "else:\n",
        "  f, (ax1) = plt.subplots(1,1, figsize=(12,3))\n",
        "  ax1.hist(train_length, range=(0, 1000), bins=100);\n",
        "  ax1.title.set_text('Review Length');"
      ],
      "execution_count": 22,
      "outputs": [
        {
          "output_type": "display_data",
          "data": {
            "image/png": "[encoded data removed]",
            "text/plain": [
              "<Figure size 864x216 with 2 Axes>"
            ]
          },
          "metadata": {
            "tags": [],
            "needs_background": "light"
          }
        }
      ]
    },
    {
      "cell_type": "code",
      "metadata": {
        "colab_type": "code",
        "id": "anQaBhOLdxrk",
        "colab": {}
      },
      "source": [
        "def pad_sequences(seq, maxlen, pad_first=False, pad_idx=1):\n",
        "    if len(seq) >= maxlen:\n",
        "        res = np.array(seq[-maxlen:]).astype(\"int32\")\n",
        "        return res\n",
        "    else:\n",
        "        res = np.zeros(maxlen, dtype=\"int32\") + pad_idx\n",
        "        if pad_first:\n",
        "            res[-len(seq) :] = seq\n",
        "        else:\n",
        "            res[: len(seq) :] = seq\n",
        "        return res\n",
        "\n",
        "\n",
        "def pad_nested_sequences(\n",
        "    seq, maxlen_sent, maxlen_doc, pad_sent_first=False, pad_doc_first=False, pad_idx=1\n",
        "):\n",
        "    seq = [s for s in seq if len(s) >= 1]\n",
        "    if len(seq) == 0:\n",
        "        return np.array([[pad_idx] * maxlen_sent] * maxlen_doc).astype(\"int32\")\n",
        "    seq = [pad_sequences(s, maxlen_sent, pad_sent_first, pad_idx) for s in seq]\n",
        "    if len(seq) >= maxlen_doc:\n",
        "        return np.array(seq[:maxlen_doc])\n",
        "    else:\n",
        "        res = np.array([[pad_idx] * maxlen_sent] * maxlen_doc).astype(\"int32\")\n",
        "        if pad_doc_first:\n",
        "            res[-len(seq) :] = seq\n",
        "        else:\n",
        "            res[: len(seq) :] = seq\n",
        "        return res\n",
        "\n",
        "def pad_single_sequence(\n",
        "    seq, maxlen, pad_sent_first=False, pad_doc_first=False, pad_idx=1\n",
        "):\n",
        "    # seq = [s for s in seq if len(s) >= 1]\n",
        "    if len(seq) == 0:\n",
        "        return np.array([pad_idx] * maxlen).astype(\"int32\")\n",
        "    seq = pad_sequences(seq, maxlen, pad_sent_first, pad_idx)\n",
        "\n",
        "    if len(seq) >= maxlen:\n",
        "        return np.array(seq[:maxlen])\n",
        "    else:\n",
        "        res = np.array([pad_idx] * maxlen).astype(\"int32\")\n",
        "        if pad_doc_first:\n",
        "            res[-len(seq) :] = seq\n",
        "        else:\n",
        "            res[: len(seq) :] = seq\n",
        "        return res"
      ],
      "execution_count": 0,
      "outputs": []
    },
    {
      "cell_type": "code",
      "metadata": {
        "colab_type": "code",
        "id": "_EydKhySdyMi",
        "outputId": "09c1611a-ec8f-49f5-abf5-a0caf758e3a1",
        "colab": {
          "base_uri": "https://localhost:8080/",
          "height": 187
        }
      },
      "source": [
        "if split_sentences:\n",
        "  train_padded_texts = np.stack([pad_nested_sequences(r, maxlen_sent, maxlen_doc) for r in train_texts_numz], axis=0)\n",
        "  val_padded_texts = np.stack([pad_nested_sequences(r, maxlen_sent, maxlen_doc) for r in val_texts_numz], axis=0)\n",
        "  test_padded_texts = np.stack([pad_nested_sequences(r, maxlen_sent, maxlen_doc) for r in test_texts_numz], axis=0)\n",
        "\n",
        "else:\n",
        "  train_padded_texts = np.stack([pad_single_sequence(r, maxlen_sent) for r in train_texts_numz], axis=0)\n",
        "  val_padded_texts = np.stack([pad_single_sequence(r, maxlen_sent) for r in val_texts_numz], axis=0)\n",
        "  test_padded_texts = np.stack([pad_single_sequence(r, maxlen_sent) for r in test_texts_numz], axis=0)\n",
        "\n",
        "print(val_padded_texts.shape)\n",
        "print(val_padded_texts[0])"
      ],
      "execution_count": 24,
      "outputs": [
        {
          "output_type": "stream",
          "text": [
            "(10000, 15, 24)\n",
            "[[  89   10   61  212 ...   24  114  855 3776]\n",
            " [   9 3545   32   27 ...   27   38   41  712]\n",
            " [  14   28   57   16 ...    1    1    1    1]\n",
            " [  14    0   49  958 ...  846   20    1    1]\n",
            " ...\n",
            " [  20 1145   10   55 ...   43   24  415    1]\n",
            " [  10   91  118   17 ...    1    1    1    1]\n",
            " [   1    1    1    1 ...    1    1    1    1]\n",
            " [   1    1    1    1 ...    1    1    1    1]]\n"
          ],
          "name": "stdout"
        }
      ]
    },
    {
      "cell_type": "markdown",
      "metadata": {
        "colab_type": "text",
        "id": "UnrQpAuJ9kEH"
      },
      "source": [
        "## Load into PyTorch DataLoader and Create Embeddings Matrix"
      ]
    },
    {
      "cell_type": "code",
      "metadata": {
        "colab_type": "code",
        "id": "WqvNRKl_j6iR",
        "colab": {}
      },
      "source": [
        "from torch.utils.data import TensorDataset, DataLoader"
      ],
      "execution_count": 0,
      "outputs": []
    },
    {
      "cell_type": "code",
      "metadata": {
        "colab_type": "code",
        "id": "QDytIlAFfcth",
        "outputId": "169a7c03-76f0-4f50-ddc5-da2bbd99528a",
        "colab": {
          "base_uri": "https://localhost:8080/",
          "height": 901
        }
      },
      "source": [
        "batch_size = 64\n",
        "\n",
        "train_set = TensorDataset(torch.from_numpy(train_padded_texts), torch.from_numpy(train[target].to_numpy()))\n",
        "train_loader = DataLoader(dataset=train_set, batch_size=batch_size)\n",
        "val_set = TensorDataset(torch.from_numpy(val_padded_texts), torch.from_numpy(val[target].to_numpy()))\n",
        "val_loader = DataLoader(dataset=val_set, batch_size=batch_size)\n",
        "test_set = TensorDataset(torch.from_numpy(test_padded_texts), torch.from_numpy(test[target].to_numpy()))\n",
        "test_loader = DataLoader(dataset=test_set, batch_size=batch_size)\n",
        "\n",
        "next(iter(train_loader))"
      ],
      "execution_count": 26,
      "outputs": [
        {
          "output_type": "execute_result",
          "data": {
            "text/plain": [
              "[tensor([[[ 424,   66,  531,  ...,   27, 1435,   19],\n",
              "          [  24, 1001,   64,  ..., 1147,  177,  316],\n",
              "          [  98,   21,   21,  ...,    1,    1,    1],\n",
              "          ...,\n",
              "          [  48,   10,  940,  ...,    9, 4246,    1],\n",
              "          [ 184,   10,  203,  ...,    1,    1,    1],\n",
              "          [ 825, 6018,   15,  ...,   20,    9,  299]],\n",
              " \n",
              "         [[  51,  314,   11,  ...,    1,    1,    1],\n",
              "          [ 191,   29,  819,  ...,    1,    1,    1],\n",
              "          [  19,  564,   18,  ...,    1,    1,    1],\n",
              "          ...,\n",
              "          [   1,    1,    1,  ...,    1,    1,    1],\n",
              "          [   1,    1,    1,  ...,    1,    1,    1],\n",
              "          [   1,    1,    1,  ...,    1,    1,    1]],\n",
              " \n",
              "         [[  10,  240,   17,  ...,    1,    1,    1],\n",
              "          [   1,    1,    1,  ...,    1,    1,    1],\n",
              "          [   1,    1,    1,  ...,    1,    1,    1],\n",
              "          ...,\n",
              "          [   1,    1,    1,  ...,    1,    1,    1],\n",
              "          [   1,    1,    1,  ...,    1,    1,    1],\n",
              "          [   1,    1,    1,  ...,    1,    1,    1]],\n",
              " \n",
              "         ...,\n",
              " \n",
              "         [[  17,   15,   11,  ...,    1,    1,    1],\n",
              "          [ 762,   46,  402,  ...,    1,    1,    1],\n",
              "          [   9, 3390,  257,  ...,    1,    1,    1],\n",
              "          ...,\n",
              "          [   1,    1,    1,  ...,    1,    1,    1],\n",
              "          [   1,    1,    1,  ...,    1,    1,    1],\n",
              "          [   1,    1,    1,  ...,    1,    1,    1]],\n",
              " \n",
              "         [[  10,   88,  632,  ...,    1,    1,    1],\n",
              "          [  10,   88,  102,  ...,    1,    1,    1],\n",
              "          [ 149,   23,    9,  ...,   12, 1629,   64],\n",
              "          ...,\n",
              "          [ 113,  280,   28,  ...,  193,   20, 2230],\n",
              "          [  54,  117,  164,  ...,  225,   18,  158],\n",
              "          [ 857,   26,   24,  ...,  110,  251,  431]],\n",
              " \n",
              "         [[  32,  216,   18,  ...,  590,  933,  682],\n",
              "          [ 163,   10,   25,  ...,    1,    1,    1],\n",
              "          [  10,   84,   27,  ...,    1,    1,    1],\n",
              "          ...,\n",
              "          [  30,   22,  116,  ...,    1,    1,    1],\n",
              "          [  16,   96,  111,  ...,   22,    0, 1766],\n",
              "          [  73, 1766,   48,  ...,   82,  202, 1497]]], dtype=torch.int32),\n",
              " tensor([1, 0, 0, 1, 1, 1, 0, 1, 0, 1, 1, 0, 0, 1, 1, 0, 0, 1, 0, 0, 1, 0, 0, 0,\n",
              "         1, 1, 0, 0, 0, 1, 0, 0, 0, 0, 1, 0, 1, 0, 1, 0, 1, 1, 1, 1, 0, 0, 0, 1,\n",
              "         1, 1, 1, 1, 1, 1, 1, 1, 0, 1, 0, 1, 0, 1, 1, 1])]"
            ]
          },
          "metadata": {
            "tags": []
          },
          "execution_count": 26
        }
      ]
    },
    {
      "cell_type": "code",
      "metadata": {
        "colab_type": "code",
        "id": "yH5FYPLRy8RH",
        "colab": {}
      },
      "source": [
        "def build_embeddings_matrix(vocab, word_vectors_path, verbose=1):\n",
        "    r\"\"\"\n",
        "    Build the embedding matrix using pretrained word vectors\n",
        "    Parameters\n",
        "    ----------\n",
        "    vocab: Fastai's Vocab object\n",
        "        see: https://docs.fast.ai/text.transform.html#Vocab\n",
        "    word_vectors_path:str\n",
        "        path to the pretrained word embeddings\n",
        "    verbose: Int. Default=1\n",
        "    Returns\n",
        "    -------\n",
        "    embedding_matrix: np.ndarray\n",
        "        pretrained word embeddings. If a word in our vocabulary is not among the\n",
        "        pretrained embeddings it will be assigned the mean pretrained\n",
        "        word-embeddings vector\n",
        "    \"\"\"\n",
        "    # if not os.path.isfile(word_vectors_path):\n",
        "    #     raise FileNotFoundError(\"{} not found\".format(word_vectors_path))\n",
        "    if verbose: print('Indexing word vectors...')\n",
        "\n",
        "    embeddings_index = {}\n",
        "    f = open(word_vectors_path)\n",
        "    for line in f:\n",
        "        values = line.split()\n",
        "        word = values[0]\n",
        "        coefs = np.asarray(values[1:], dtype='float32')\n",
        "        embeddings_index[word] = coefs\n",
        "    f.close()\n",
        "\n",
        "    if verbose:\n",
        "        print('Loaded {} word vectors'.format(len(embeddings_index)))\n",
        "        print('Preparing embeddings matrix...')\n",
        "\n",
        "    mean_word_vector = np.mean(list(embeddings_index.values()), axis=0)\n",
        "    embedding_dim = len(list(embeddings_index.values())[0])\n",
        "    num_words = len(vocab.itos)\n",
        "    embedding_matrix = np.zeros((num_words, embedding_dim))\n",
        "    found_words=0\n",
        "    for i,word in enumerate(vocab.itos):\n",
        "        embedding_vector = embeddings_index.get(word)\n",
        "        if embedding_vector is not None:\n",
        "            embedding_matrix[i] = embedding_vector\n",
        "            found_words+=1\n",
        "        else:\n",
        "            embedding_matrix[i] = mean_word_vector\n",
        "\n",
        "    return embedding_matrix"
      ],
      "execution_count": 0,
      "outputs": []
    },
    {
      "cell_type": "code",
      "metadata": {
        "colab_type": "code",
        "id": "KIXrzQtLy95J",
        "outputId": "77c933aa-20e1-4945-b66a-44420d8cf09c",
        "colab": {
          "base_uri": "https://localhost:8080/",
          "height": 85
        }
      },
      "source": [
        "embeddings_matrix = build_embeddings_matrix(vocab, path + 'glove.6B.300d.txt')\n",
        "embeddings_matrix.shape"
      ],
      "execution_count": 28,
      "outputs": [
        {
          "output_type": "stream",
          "text": [
            "Indexing word vectors...\n",
            "Loaded 400000 word vectors\n",
            "Preparing embeddings matrix...\n"
          ],
          "name": "stdout"
        },
        {
          "output_type": "execute_result",
          "data": {
            "text/plain": [
              "(10000, 300)"
            ]
          },
          "metadata": {
            "tags": []
          },
          "execution_count": 28
        }
      ]
    },
    {
      "cell_type": "markdown",
      "metadata": {
        "colab_type": "text",
        "id": "FitRwC-BA3L9"
      },
      "source": [
        "## Model: HAN"
      ]
    },
    {
      "cell_type": "code",
      "metadata": {
        "colab_type": "code",
        "id": "cnggZJOd8mW1",
        "colab": {}
      },
      "source": [
        "class AttentionWithContext(nn.Module):\n",
        "    def __init__(self, hidden_dim):\n",
        "        super(AttentionWithContext, self).__init__()\n",
        "\n",
        "        self.attn = nn.Linear(hidden_dim, hidden_dim)\n",
        "        self.contx = nn.Linear(hidden_dim, 1, bias=False)\n",
        "\n",
        "    def forward(self, inp):\n",
        "        # Calculate alignment scores\n",
        "        u = torch.tanh_(self.attn(inp))\n",
        "        # Using softmax to calculate attn_weights\n",
        "        a = F.softmax(self.contx(u), dim=1)\n",
        "        # Using dot product to calculate output\n",
        "        s = (a * inp).sum(1)\n",
        "        # Return normalized importance weights\n",
        "        return a.permute(0, 2, 1), s"
      ],
      "execution_count": 0,
      "outputs": []
    },
    {
      "cell_type": "code",
      "metadata": {
        "colab_type": "code",
        "id": "sgm9EtmF87fn",
        "colab": {}
      },
      "source": [
        "class WordAttnNet(nn.Module):\n",
        "    def __init__(\n",
        "        self,\n",
        "        vocab_size,\n",
        "        hidden_dim=32,\n",
        "        padding_idx=1,\n",
        "        embed_dim=50,\n",
        "        embedding_matrix=None,\n",
        "        embed_drop=0.0,\n",
        "        weight_drop=0.0,\n",
        "    ):\n",
        "        super(WordAttnNet, self).__init__()\n",
        "\n",
        "        if isinstance(embedding_matrix, np.ndarray):\n",
        "            self.word_embed = nn.Embedding(\n",
        "                vocab_size, embedding_matrix.shape[1], padding_idx=padding_idx\n",
        "            )\n",
        "            self.word_embed.weight = nn.Parameter(torch.Tensor(embedding_matrix))\n",
        "            embed_dim = embedding_matrix.shape[1]\n",
        "        else:\n",
        "            self.word_embed = nn.Embedding(vocab_size, embed_dim, padding_idx=padding_idx)\n",
        "\n",
        "        if embed_drop:\n",
        "            self.word_embed = EmbeddingDropout(self.word_embed, embed_drop)\n",
        "\n",
        "        self.rnn = nn.GRU(embed_dim, hidden_dim, bidirectional=True, batch_first=True)\n",
        "\n",
        "        if weight_drop:\n",
        "            self.rnn = WeightDropout(self.rnn, weight_drop)\n",
        "\n",
        "        self.word_attn = AttentionWithContext(hidden_dim * 2)\n",
        "\n",
        "    def forward(self, X, h_n):\n",
        "        embed = self.word_embed(X.long())\n",
        "        h_t, h_n = self.rnn(embed, h_n)\n",
        "        a, s = self.word_attn(h_t)\n",
        "        return a, s.unsqueeze(1), h_n"
      ],
      "execution_count": 0,
      "outputs": []
    },
    {
      "cell_type": "code",
      "metadata": {
        "colab_type": "code",
        "id": "sNMonhcS9Fos",
        "colab": {}
      },
      "source": [
        "class SentAttnNet(nn.Module):\n",
        "    def __init__(\n",
        "        self, \n",
        "        word_hidden_dim=32, \n",
        "        sent_hidden_dim=32, \n",
        "        padding_idx=1,\n",
        "        weight_drop=0.0,\n",
        "    ):\n",
        "        super(SentAttnNet, self).__init__()\n",
        "\n",
        "        self.rnn = nn.GRU(\n",
        "            word_hidden_dim * 2, sent_hidden_dim, bidirectional=True, batch_first=True\n",
        "        )\n",
        "\n",
        "        if weight_drop:\n",
        "            self.rnn = WeightDropout(self.rnn, weight_drop)\n",
        "\n",
        "        self.sent_attn = AttentionWithContext(sent_hidden_dim * 2)\n",
        "\n",
        "    def forward(self, X):\n",
        "        h_t, h_n = self.rnn(X)\n",
        "        a, v = self.sent_attn(h_t)\n",
        "        return a.permute(0,2,1), v"
      ],
      "execution_count": 0,
      "outputs": []
    },
    {
      "cell_type": "code",
      "metadata": {
        "colab_type": "code",
        "id": "jOWveLmW9M2I",
        "colab": {}
      },
      "source": [
        "class HierAttnNet(nn.Module):\n",
        "    def __init__(\n",
        "        self,\n",
        "        vocab_size,\n",
        "        maxlen_sent,\n",
        "        maxlen_doc,\n",
        "        word_hidden_dim=32,\n",
        "        sent_hidden_dim=32,\n",
        "        padding_idx=1,\n",
        "        embed_dim=50,\n",
        "        weight_drop=0.0,\n",
        "        embed_drop=0.0,\n",
        "        last_drop=0.0,\n",
        "        embedding_matrix=None,\n",
        "        num_class=2,\n",
        "    ):\n",
        "        super(HierAttnNet, self).__init__()\n",
        "\n",
        "        self.word_hidden_dim = word_hidden_dim\n",
        "\n",
        "        self.wordattnnet = WordAttnNet(\n",
        "            vocab_size=vocab_size,\n",
        "            hidden_dim=word_hidden_dim,\n",
        "            padding_idx=padding_idx,\n",
        "            embed_dim=embed_dim,\n",
        "            embedding_matrix=embedding_matrix,\n",
        "            embed_drop=embed_drop,\n",
        "            weight_drop=weight_drop,\n",
        "        )\n",
        "\n",
        "        self.sentattnnet = SentAttnNet(\n",
        "            word_hidden_dim=word_hidden_dim,\n",
        "            sent_hidden_dim=sent_hidden_dim,\n",
        "            padding_idx=padding_idx,\n",
        "            weight_drop=weight_drop,\n",
        "        )\n",
        "\n",
        "        self.ld = nn.Dropout(last_drop)\n",
        "        self.fc = nn.Linear(sent_hidden_dim * 2, num_class)\n",
        "\n",
        "    def forward(self, X):\n",
        "        x = X.permute(1, 0, 2)\n",
        "        word_h_n = torch.zeros((2,X.shape[0],self.word_hidden_dim))\n",
        "        if use_cuda:\n",
        "            word_h_n = word_h_n.cuda()\n",
        "        # alpha and s Tensor Lists\n",
        "        word_a_list, word_s_list = [], []\n",
        "        for sent in x:\n",
        "            word_a, word_s, word_h_n = self.wordattnnet(sent, word_h_n)\n",
        "            word_a_list.append(word_a)\n",
        "            word_s_list.append(word_s)\n",
        "        # Importance attention weights per word in sentence\n",
        "        self.sent_a = torch.cat(word_a_list, 1)\n",
        "        # Sentences representation\n",
        "        sent_s = torch.cat(word_s_list, 1)\n",
        "        # Importance attention weights per sentence in doc and document representation\n",
        "        self.doc_a, doc_s = self.sentattnnet(sent_s)\n",
        "        # Dropout\n",
        "        doc_s = self.ld(doc_s)\n",
        "        return self.fc(doc_s)"
      ],
      "execution_count": 0,
      "outputs": []
    },
    {
      "cell_type": "code",
      "metadata": {
        "colab_type": "code",
        "id": "GaRZzoZmk7za",
        "outputId": "7fb66b29-c218-4882-b9cf-bf9303d65978",
        "colab": {
          "base_uri": "https://localhost:8080/",
          "height": 442
        }
      },
      "source": [
        "m = HierAttnNet(\n",
        "    vocab_size=len(vocab.stoi),\n",
        "    maxlen_sent=maxlen_sent,\n",
        "    maxlen_doc=maxlen_doc,\n",
        "    word_hidden_dim=32,\n",
        "    sent_hidden_dim=32,\n",
        "    padding_idx=1,\n",
        "    embed_dim=300,\n",
        "    weight_drop=0.8,\n",
        "    embed_drop=0.8,\n",
        "    last_drop=0.8,\n",
        "    embedding_matrix=embeddings_matrix,\n",
        "    num_class=2,\n",
        ")\n",
        "\n",
        "if use_cuda:\n",
        "    m = m.cuda()\n",
        "\n",
        "m"
      ],
      "execution_count": 33,
      "outputs": [
        {
          "output_type": "execute_result",
          "data": {
            "text/plain": [
              "HierAttnNet(\n",
              "  (wordattnnet): WordAttnNet(\n",
              "    (word_embed): EmbeddingDropout(\n",
              "      (emb): Embedding(74813, 300, padding_idx=1)\n",
              "    )\n",
              "    (rnn): WeightDropout(\n",
              "      (module): GRU(300, 32, batch_first=True, bidirectional=True)\n",
              "    )\n",
              "    (word_attn): AttentionWithContext(\n",
              "      (attn): Linear(in_features=64, out_features=64, bias=True)\n",
              "      (contx): Linear(in_features=64, out_features=1, bias=False)\n",
              "    )\n",
              "  )\n",
              "  (sentattnnet): SentAttnNet(\n",
              "    (rnn): WeightDropout(\n",
              "      (module): GRU(64, 32, batch_first=True, bidirectional=True)\n",
              "    )\n",
              "    (sent_attn): AttentionWithContext(\n",
              "      (attn): Linear(in_features=64, out_features=64, bias=True)\n",
              "      (contx): Linear(in_features=64, out_features=1, bias=False)\n",
              "    )\n",
              "  )\n",
              "  (ld): Dropout(p=0.8, inplace=False)\n",
              "  (fc): Linear(in_features=64, out_features=2, bias=True)\n",
              ")"
            ]
          },
          "metadata": {
            "tags": []
          },
          "execution_count": 33
        }
      ]
    },
    {
      "cell_type": "markdown",
      "metadata": {
        "colab_type": "text",
        "id": "m2fw4jTgLU5v"
      },
      "source": [
        "## Training"
      ]
    },
    {
      "cell_type": "markdown",
      "metadata": {
        "colab_type": "text",
        "id": "fhGfU8hLLrPi"
      },
      "source": [
        "Definition of training loop, where we return the model at the lowest validation loss during training"
      ]
    },
    {
      "cell_type": "code",
      "metadata": {
        "colab_type": "code",
        "id": "uKRzwb6ELWpo",
        "colab": {}
      },
      "source": [
        "def fit(model, train_dl, val_dl, loss_fn, opt, epochs, batch_size):\n",
        "    measurements = {\n",
        "        \"Train Loss\": [],\n",
        "        \"Train Acc\": [],\n",
        "        \"Train F1\": [],\n",
        "        \"Val Loss\": [],\n",
        "        \"Val Acc\": [],\n",
        "        \"Val F1\": [],\n",
        "        \"Lowest Val Loss\": np.Inf,\n",
        "        \"Lowest Val Loss Epoch\": np.Inf\n",
        "    }\n",
        "    lowest_val_loss = np.Inf\n",
        "    lowest_val_loss_epoch = np.Inf\n",
        "    \n",
        "    for epoch in range(1, epochs+1):\n",
        "        # Training\n",
        "        y_true_train = list()\n",
        "        y_pred_train = list()\n",
        "        total_loss_train = 0  \n",
        "        \n",
        "        model.train() # Set model in train mode\n",
        "        \n",
        "        for X,y in iter(train_dl):\n",
        "            X = X.cuda() if use_cuda else X\n",
        "            y = y.cuda() if use_cuda else y\n",
        "\n",
        "            opt.zero_grad() # Clear old gradients\n",
        "            pred = model(X) # Make prediction using model\n",
        "            loss = loss_fn(pred, y)\n",
        "            loss.backward() # Compute derivatives of loss w.r.t. parameters using backpropagation\n",
        "            opt.step() # Take a step using computed gradients\n",
        "            pred_idx = torch.max(pred, 1)[1]\n",
        "            \n",
        "            y_true_train += list(y.cpu().data.numpy())\n",
        "            y_pred_train += list(pred_idx.cpu().data.numpy())\n",
        "            total_loss_train += loss.item()\n",
        "        \n",
        "        train_acc = accuracy_score(y_true_train, y_pred_train)\n",
        "        train_f1 = f1_score(y_true_train, y_pred_train)\n",
        "        train_loss = total_loss_train/len(train_dl)\n",
        "        measurements[\"Train Acc\"].append(train_acc)\n",
        "        measurements[\"Train F1\"].append(train_f1)\n",
        "        measurements[\"Train Loss\"].append(train_loss)\n",
        "        \n",
        "        # Validation\n",
        "        y_true_val = list()\n",
        "        y_pred_val = list()\n",
        "        total_loss_val = 0\n",
        "        \n",
        "        model.eval() # Set model in eval mode\n",
        "\n",
        "        for X,y in iter(val_dl):\n",
        "            X = X.cuda() if use_cuda else X\n",
        "            y = y.cuda() if use_cuda else y\n",
        "\n",
        "            pred = model(X)\n",
        "            loss = loss_fn(pred, y)\n",
        "            pred_idx = torch.max(pred, 1)[1]\n",
        "\n",
        "            y_true_val += list(y.cpu().data.numpy())\n",
        "            y_pred_val += list(pred_idx.cpu().data.numpy())\n",
        "            total_loss_val += loss.item()\n",
        "\n",
        "        val_acc = accuracy_score(y_true_val, y_pred_val)\n",
        "        val_f1 = f1_score(y_true_val, y_pred_val)\n",
        "        val_loss = total_loss_val/len(val_dl)\n",
        "        measurements[\"Val Acc\"].append(val_acc)\n",
        "        measurements[\"Val F1\"].append(val_f1)\n",
        "        measurements[\"Val Loss\"].append(val_loss)\n",
        "        \n",
        "        if (val_loss < measurements[\"Lowest Val Loss\"]):\n",
        "            torch.save(model.state_dict(), path + model_name + '_checkpoint.pt')\n",
        "            measurements[\"Lowest Val Loss\"] = val_loss\n",
        "            measurements[\"Lowest Val Loss Epoch\"] = epoch\n",
        "        \n",
        "        print(f'Epoch {epoch}: train_loss: {train_loss:.4f} train_acc: {train_acc:.4f} train_f1: {train_f1:.4f} | val_loss: {val_loss:.4f} val_acc: {val_acc:.4f} val_f1: {val_f1:.4f}')\n",
        "        \n",
        "    # Return model checkpoint stored at lowest validation loss\n",
        "    model.load_state_dict(torch.load(path + model_name + '_checkpoint.pt'))\n",
        "    print(f'Lowest val_loss: {measurements[\"Lowest Val Loss\"]:.4f}, at epoch {measurements[\"Lowest Val Loss Epoch\"]}')\n",
        "    \n",
        "    return model, measurements"
      ],
      "execution_count": 0,
      "outputs": []
    },
    {
      "cell_type": "code",
      "metadata": {
        "colab_type": "code",
        "outputId": "3b898edf-9cc1-4287-b829-eff4fff7e8d3",
        "id": "xnqpxiOEmeBn",
        "colab": {
          "base_uri": "https://localhost:8080/",
          "height": 374
        }
      },
      "source": [
        "opt = torch.optim.AdamW(m.parameters())\n",
        "m, measurements = fit(\n",
        "    model=m,\n",
        "    train_dl=train_loader, \n",
        "    val_dl=val_loader, \n",
        "    loss_fn=F.cross_entropy,\n",
        "    opt=opt,\n",
        "    epochs=20,\n",
        "    batch_size=batch_size)"
      ],
      "execution_count": 35,
      "outputs": [
        {
          "output_type": "stream",
          "text": [
            "Epoch 1: train_loss: 0.4727 train_acc: 0.7860 train_f1: 0.7905 | val_loss: 0.4460 val_acc: 0.7931 val_f1: 0.8068\n",
            "Epoch 2: train_loss: 0.4526 train_acc: 0.7952 train_f1: 0.8009 | val_loss: 0.4313 val_acc: 0.8000 val_f1: 0.8128\n",
            "Epoch 3: train_loss: 0.4488 train_acc: 0.7988 train_f1: 0.8047 | val_loss: 0.4303 val_acc: 0.8020 val_f1: 0.8180\n",
            "Epoch 4: train_loss: 0.4445 train_acc: 0.7990 train_f1: 0.8049 | val_loss: 0.4200 val_acc: 0.8043 val_f1: 0.8152\n",
            "Epoch 5: train_loss: 0.4440 train_acc: 0.7981 train_f1: 0.8045 | val_loss: 0.4165 val_acc: 0.8057 val_f1: 0.8131\n",
            "Epoch 6: train_loss: 0.4409 train_acc: 0.8018 train_f1: 0.8077 | val_loss: 0.4170 val_acc: 0.8071 val_f1: 0.8174\n",
            "Epoch 7: train_loss: 0.4381 train_acc: 0.8016 train_f1: 0.8076 | val_loss: 0.4182 val_acc: 0.8077 val_f1: 0.8163\n",
            "Epoch 8: train_loss: 0.4392 train_acc: 0.8004 train_f1: 0.8069 | val_loss: 0.4161 val_acc: 0.8056 val_f1: 0.8156\n",
            "Epoch 9: train_loss: 0.4369 train_acc: 0.8029 train_f1: 0.8090 | val_loss: 0.4154 val_acc: 0.8106 val_f1: 0.8184\n",
            "Epoch 10: train_loss: 0.4365 train_acc: 0.8021 train_f1: 0.8080 | val_loss: 0.4163 val_acc: 0.8099 val_f1: 0.8097\n",
            "Epoch 11: train_loss: 0.4363 train_acc: 0.8017 train_f1: 0.8077 | val_loss: 0.4161 val_acc: 0.8108 val_f1: 0.8138\n",
            "Epoch 12: train_loss: 0.4335 train_acc: 0.8031 train_f1: 0.8092 | val_loss: 0.4169 val_acc: 0.8089 val_f1: 0.8192\n",
            "Epoch 13: train_loss: 0.4341 train_acc: 0.8026 train_f1: 0.8088 | val_loss: 0.4202 val_acc: 0.8063 val_f1: 0.8026\n",
            "Epoch 14: train_loss: 0.4328 train_acc: 0.8035 train_f1: 0.8094 | val_loss: 0.4144 val_acc: 0.8089 val_f1: 0.8115\n",
            "Epoch 15: train_loss: 0.4330 train_acc: 0.8037 train_f1: 0.8094 | val_loss: 0.4114 val_acc: 0.8128 val_f1: 0.8177\n",
            "Epoch 16: train_loss: 0.4316 train_acc: 0.8044 train_f1: 0.8099 | val_loss: 0.4108 val_acc: 0.8142 val_f1: 0.8177\n",
            "Epoch 17: train_loss: 0.4305 train_acc: 0.8042 train_f1: 0.8101 | val_loss: 0.4138 val_acc: 0.8105 val_f1: 0.8095\n",
            "Epoch 18: train_loss: 0.4312 train_acc: 0.8042 train_f1: 0.8096 | val_loss: 0.4105 val_acc: 0.8093 val_f1: 0.8116\n",
            "Epoch 19: train_loss: 0.4309 train_acc: 0.8055 train_f1: 0.8112 | val_loss: 0.4142 val_acc: 0.8096 val_f1: 0.8092\n",
            "Epoch 20: train_loss: 0.4299 train_acc: 0.8052 train_f1: 0.8110 | val_loss: 0.4120 val_acc: 0.8097 val_f1: 0.8090\n",
            "Lowest val_loss: 0.4105, at epoch 18\n"
          ],
          "name": "stdout"
        }
      ]
    },
    {
      "cell_type": "code",
      "metadata": {
        "colab_type": "code",
        "outputId": "518a15dc-2f3c-4b16-8f78-2901a604bac4",
        "id": "M7Nol7wpmeBr",
        "colab": {
          "base_uri": "https://localhost:8080/",
          "height": 367
        }
      },
      "source": [
        "plt.figure(figsize=(10,5))\n",
        "plt.plot(range(1,21), measurements[\"Train Loss\"], label=\"Train Loss\")\n",
        "plt.plot(range(1,21), measurements[\"Val Loss\"], label=\"Validation Loss\")\n",
        "plt.axvline(measurements[\"Lowest Val Loss Epoch\"], linestyle='--', color='r',label='Checkpoint')\n",
        "plt.title(\"Loss Plot\")\n",
        "plt.xlabel(\"Epochs\")\n",
        "plt.ylabel(\"Cross Entropy Loss\")\n",
        "plt.legend()"
      ],
      "execution_count": 36,
      "outputs": [
        {
          "output_type": "execute_result",
          "data": {
            "text/plain": [
              "<matplotlib.legend.Legend at 0x7f28e42226d8>"
            ]
          },
          "metadata": {
            "tags": []
          },
          "execution_count": 36
        },
        {
          "output_type": "display_data",
          "data": {
            "image/png": "[encoded data removed]",
            "text/plain": [
              "<Figure size 720x360 with 1 Axes>"
            ]
          },
          "metadata": {
            "tags": [],
            "needs_background": "light"
          }
        }
      ]
    },
    {
      "cell_type": "markdown",
      "metadata": {
        "colab_type": "text",
        "id": "z_6KnEeb04_r"
      },
      "source": [
        "## Test Accuracy and Attention Visualisation"
      ]
    },
    {
      "cell_type": "code",
      "metadata": {
        "colab_type": "code",
        "id": "MObfLOhKqUBp",
        "colab": {}
      },
      "source": [
        "def get_predictions_and_attn_weights(model, test_loader):\n",
        "    model.eval()\n",
        "    preds, sent_a, doc_a = [], [], []\n",
        "    with torch.no_grad():\n",
        "        for data, target in test_loader:\n",
        "            X = data.cuda() if use_cuda else data\n",
        "            y_pred = model(X)\n",
        "            preds.append(y_pred)\n",
        "            sent_a.append(model.sent_a)\n",
        "            doc_a.append(model.doc_a)\n",
        "    return preds, sent_a, doc_a"
      ],
      "execution_count": 0,
      "outputs": []
    },
    {
      "cell_type": "code",
      "metadata": {
        "colab_type": "code",
        "id": "-Sk8iacXHvwx",
        "colab": {}
      },
      "source": [
        "import matplotlib\n",
        "\n",
        "def plot_attention(doc, word_w, doc_w):\n",
        "    word_cmap = matplotlib.cm.get_cmap(\"Greens\")\n",
        "    sent_cmap = matplotlib.cm.get_cmap(\"Reds\")\n",
        "    template = '<font face=\"monospace\" \\nsize=\"3\"; span class=\"barcode\"; style=\"color: black; background-color: {}\">{}</span>'\n",
        "    colored_doc = \"\"\n",
        "    for sent, sent_w, whole_sent_w in zip(doc, word_w, doc_w):\n",
        "        sent_len, pad_count = len(sent.split()), 0\n",
        "        sentence_fmt = \"\"\n",
        "        sent_color = matplotlib.colors.rgb2hex(sent_cmap(whole_sent_w)[:3])\n",
        "        \n",
        "        for t, w in zip(sent.split(), sent_w):\n",
        "            if t == 'xxpad':\n",
        "                pad_count+=1\n",
        "                continue\n",
        "            word_color = matplotlib.colors.rgb2hex(word_cmap(w)[:3])\n",
        "            sentence_fmt += template.format(word_color, \"&nbsp\" + t +\"&nbsp\")\n",
        "        if pad_count != sent_len:\n",
        "            sentence_fmt += \"</br>\"\n",
        "            sentence_fmt = template.format(sent_color, \"&nbsp&nbsp&nbsp\") + sentence_fmt\n",
        "        colored_doc += sentence_fmt\n",
        "        \n",
        "    return colored_doc"
      ],
      "execution_count": 0,
      "outputs": []
    },
    {
      "cell_type": "code",
      "metadata": {
        "colab_type": "code",
        "id": "YTd_hyTT1JhI",
        "colab": {}
      },
      "source": [
        "preds_l, word_attn_l, sent_attn_l = get_predictions_and_attn_weights(m, test_loader)\n",
        "\n",
        "preds = F.softmax(torch.cat(preds_l), 1).cpu().numpy() # Probabilities of being not useful & useful [0,1] per example\n",
        "word_attn = torch.cat(word_attn_l).cpu().numpy()\n",
        "sent_attn = torch.cat(sent_attn_l).squeeze(2).cpu().numpy()"
      ],
      "execution_count": 0,
      "outputs": []
    },
    {
      "cell_type": "code",
      "metadata": {
        "colab_type": "code",
        "id": "J5VWsHhVG_sF",
        "outputId": "b1d04e2a-c86e-4603-beb3-6eb571e417ff",
        "colab": {
          "base_uri": "https://localhost:8080/",
          "height": 51
        }
      },
      "source": [
        "y_true = test[target].to_numpy()\n",
        "y_pred = np.argmax(preds, axis=1)\n",
        "print('Test Accuracy: {}'.format(accuracy_score(y_true, y_pred)))\n",
        "print('Test F1: {}'.format(f1_score(y_true, y_pred)))"
      ],
      "execution_count": 40,
      "outputs": [
        {
          "output_type": "stream",
          "text": [
            "Test Accuracy: 0.8121\n",
            "Test F1: 0.8160548213411649\n"
          ],
          "name": "stdout"
        }
      ]
    },
    {
      "cell_type": "code",
      "metadata": {
        "colab_type": "code",
        "id": "uN6v4-CC1SfT",
        "colab": {}
      },
      "source": [
        "def get_indices(y_true, y_preds, n=1, agree=True, is_pos=True):\n",
        "    pred_pos = np.where(y_preds[:, 1] > 0.9)[0]\n",
        "    true_pos = np.where(y_true == 1)[0]\n",
        "    pred_neg = np.where(y_preds[:, 0] > 0.9)[0] \n",
        "    true_neg = np.where(y_true == 0)[0]\n",
        "    # if prediction and real agree\n",
        "    if agree:\n",
        "        # if real is positive\n",
        "        if is_pos:\n",
        "            idx = np.random.choice(np.intersect1d(pred_pos, true_pos), n)[0]\n",
        "        else: \n",
        "            idx = np.random.choice(np.intersect1d(pred_neg, true_neg), n)[0]\n",
        "    else:\n",
        "        if is_pos:\n",
        "            idx = np.random.choice(np.intersect1d(pred_neg, true_pos), n)[0]  \n",
        "        else: \n",
        "            idx = np.random.choice(np.intersect1d(pred_pos, true_neg), n)[0]  \n",
        "    return idx"
      ],
      "execution_count": 0,
      "outputs": []
    },
    {
      "cell_type": "code",
      "metadata": {
        "colab_type": "code",
        "id": "YUR_Pkci1jAs",
        "colab": {}
      },
      "source": [
        "idx = get_indices(y_true, preds)\n",
        "idx = 999\n",
        "\n",
        "doc = [vocab.textify(s) for s in test_padded_texts[idx]]\n",
        "word_w = word_attn[idx]\n",
        "doc_w  = sent_attn[idx]"
      ],
      "execution_count": 0,
      "outputs": []
    },
    {
      "cell_type": "code",
      "metadata": {
        "colab_type": "code",
        "id": "3QMg2wCM7f5j",
        "colab": {}
      },
      "source": [
        "pred_pos_real_pos_attn = plot_attention(doc, word_w, doc_w)\n",
        "with open('/tmp/pred_pos_real_pos_attn.html', 'w') as f:\n",
        "    f.write(pred_pos_real_pos_attn)"
      ],
      "execution_count": 0,
      "outputs": []
    },
    {
      "cell_type": "code",
      "metadata": {
        "colab_type": "code",
        "id": "S1er3STW7igY",
        "outputId": "02e3d709-7586-4ce9-9765-5af21bae7af6",
        "colab": {
          "base_uri": "https://localhost:8080/",
          "height": 119
        }
      },
      "source": [
        "from IPython.display import display, HTML\n",
        "display(HTML('/tmp/pred_pos_real_pos_attn.html'))"
      ],
      "execution_count": 65,
      "outputs": [
        {
          "output_type": "display_data",
          "data": {
            "text/html": [
              "<font face=\"monospace\" \n",
              "size=\"3\"; span class=\"barcode\"; style=\"color: black; background-color: #fdd5c4\">&nbsp&nbsp&nbsp</span><font face=\"monospace\" \n",
              "size=\"3\"; span class=\"barcode\"; style=\"color: black; background-color: #ebf7e7\">&nbspgot&nbsp</span><font face=\"monospace\" \n",
              "size=\"3\"; span class=\"barcode\"; style=\"color: black; background-color: #f2faef\">&nbspthis&nbsp</span><font face=\"monospace\" \n",
              "size=\"3\"; span class=\"barcode\"; style=\"color: black; background-color: #e9f7e5\">&nbsptelescope&nbsp</span><font face=\"monospace\" \n",
              "size=\"3\"; span class=\"barcode\"; style=\"color: black; background-color: #f1faee\">&nbspa&nbsp</span><font face=\"monospace\" \n",
              "size=\"3\"; span class=\"barcode\"; style=\"color: black; background-color: #dff3da\">&nbspfew&nbsp</span><font face=\"monospace\" \n",
              "size=\"3\"; span class=\"barcode\"; style=\"color: black; background-color: #f0f9ec\">&nbspdays&nbsp</span><font face=\"monospace\" \n",
              "size=\"3\"; span class=\"barcode\"; style=\"color: black; background-color: #f2faf0\">&nbspbefore&nbsp</span><font face=\"monospace\" \n",
              "size=\"3\"; span class=\"barcode\"; style=\"color: black; background-color: #f2faef\">&nbspchristmas&nbsp</span><font face=\"monospace\" \n",
              "size=\"3\"; span class=\"barcode\"; style=\"color: black; background-color: #f3faf0\">&nbspfor&nbsp</span><font face=\"monospace\" \n",
              "size=\"3\"; span class=\"barcode\"; style=\"color: black; background-color: #f0f9ed\">&nbspmy&nbsp</span><font face=\"monospace\" \n",
              "size=\"3\"; span class=\"barcode\"; style=\"color: black; background-color: #f3faf0\">&nbspyear&nbsp</span><font face=\"monospace\" \n",
              "size=\"3\"; span class=\"barcode\"; style=\"color: black; background-color: #f3faf0\">&nbspold&nbsp</span><font face=\"monospace\" \n",
              "size=\"3\"; span class=\"barcode\"; style=\"color: black; background-color: #f2faf0\">&nbsps&nbsp</span><font face=\"monospace\" \n",
              "size=\"3\"; span class=\"barcode\"; style=\"color: black; background-color: #f0f9ec\">&nbspbig&nbsp</span><font face=\"monospace\" \n",
              "size=\"3\"; span class=\"barcode\"; style=\"color: black; background-color: #e8f6e3\">&nbspgift&nbsp</span><font face=\"monospace\" \n",
              "size=\"3\"; span class=\"barcode\"; style=\"color: black; background-color: #f2faef\">&nbspof&nbsp</span><font face=\"monospace\" \n",
              "size=\"3\"; span class=\"barcode\"; style=\"color: black; background-color: #f2faf0\">&nbspthe&nbsp</span><font face=\"monospace\" \n",
              "size=\"3\"; span class=\"barcode\"; style=\"color: black; background-color: #f2faf0\">&nbspyear&nbsp</span></br><font face=\"monospace\" \n",
              "size=\"3\"; span class=\"barcode\"; style=\"color: black; background-color: #fdd0bc\">&nbsp&nbsp&nbsp</span><font face=\"monospace\" \n",
              "size=\"3\"; span class=\"barcode\"; style=\"color: black; background-color: #f1faee\">&nbspit&nbsp</span><font face=\"monospace\" \n",
              "size=\"3\"; span class=\"barcode\"; style=\"color: black; background-color: #f1faee\">&nbspworked&nbsp</span><font face=\"monospace\" \n",
              "size=\"3\"; span class=\"barcode\"; style=\"color: black; background-color: #f3faf0\">&nbspwhen&nbsp</span><font face=\"monospace\" \n",
              "size=\"3\"; span class=\"barcode\"; style=\"color: black; background-color: #f1faee\">&nbspi&nbsp</span><font face=\"monospace\" \n",
              "size=\"3\"; span class=\"barcode\"; style=\"color: black; background-color: #f2faf0\">&nbspset&nbsp</span><font face=\"monospace\" \n",
              "size=\"3\"; span class=\"barcode\"; style=\"color: black; background-color: #f3faf0\">&nbspit&nbsp</span><font face=\"monospace\" \n",
              "size=\"3\"; span class=\"barcode\"; style=\"color: black; background-color: #f4fbf1\">&nbspup&nbsp</span><font face=\"monospace\" \n",
              "size=\"3\"; span class=\"barcode\"; style=\"color: black; background-color: #f2faf0\">&nbspbut&nbsp</span><font face=\"monospace\" \n",
              "size=\"3\"; span class=\"barcode\"; style=\"color: black; background-color: #f2faf0\">&nbspthe&nbsp</span><font face=\"monospace\" \n",
              "size=\"3\"; span class=\"barcode\"; style=\"color: black; background-color: #e8f6e4\">&nbspcomputer&nbsp</span><font face=\"monospace\" \n",
              "size=\"3\"; span class=\"barcode\"; style=\"color: black; background-color: #f3faf0\">&nbspdied&nbsp</span><font face=\"monospace\" \n",
              "size=\"3\"; span class=\"barcode\"; style=\"color: black; background-color: #f0f9ed\">&nbspcompletely&nbsp</span><font face=\"monospace\" \n",
              "size=\"3\"; span class=\"barcode\"; style=\"color: black; background-color: #f2faef\">&nbspon&nbsp</span><font face=\"monospace\" \n",
              "size=\"3\"; span class=\"barcode\"; style=\"color: black; background-color: #f1faee\">&nbspchristmas&nbsp</span><font face=\"monospace\" \n",
              "size=\"3\"; span class=\"barcode\"; style=\"color: black; background-color: #edf8e9\">&nbspnight&nbsp</span><font face=\"monospace\" \n",
              "size=\"3\"; span class=\"barcode\"; style=\"color: black; background-color: #f2faf0\">&nbspwhen&nbsp</span><font face=\"monospace\" \n",
              "size=\"3\"; span class=\"barcode\"; style=\"color: black; background-color: #eff9ec\">&nbspwe&nbsp</span><font face=\"monospace\" \n",
              "size=\"3\"; span class=\"barcode\"; style=\"color: black; background-color: #f1faee\">&nbspfirst&nbsp</span><font face=\"monospace\" \n",
              "size=\"3\"; span class=\"barcode\"; style=\"color: black; background-color: #f2faf0\">&nbspwent&nbsp</span><font face=\"monospace\" \n",
              "size=\"3\"; span class=\"barcode\"; style=\"color: black; background-color: #eef8ea\">&nbspout&nbsp</span><font face=\"monospace\" \n",
              "size=\"3\"; span class=\"barcode\"; style=\"color: black; background-color: #f2faf0\">&nbspto&nbsp</span><font face=\"monospace\" \n",
              "size=\"3\"; span class=\"barcode\"; style=\"color: black; background-color: #f1faee\">&nbspuse&nbsp</span><font face=\"monospace\" \n",
              "size=\"3\"; span class=\"barcode\"; style=\"color: black; background-color: #f3faf0\">&nbspit&nbsp</span></br><font face=\"monospace\" \n",
              "size=\"3\"; span class=\"barcode\"; style=\"color: black; background-color: #fedaca\">&nbsp&nbsp&nbsp</span><font face=\"monospace\" \n",
              "size=\"3\"; span class=\"barcode\"; style=\"color: black; background-color: #f0f9ec\">&nbspit&nbsp</span><font face=\"monospace\" \n",
              "size=\"3\"; span class=\"barcode\"; style=\"color: black; background-color: #ebf7e7\">&nbspwas&nbsp</span><font face=\"monospace\" \n",
              "size=\"3\"; span class=\"barcode\"; style=\"color: black; background-color: #f1faee\">&nbspa&nbsp</span><font face=\"monospace\" \n",
              "size=\"3\"; span class=\"barcode\"; style=\"color: black; background-color: #f0f9ec\">&nbspmajor&nbsp</span><font face=\"monospace\" \n",
              "size=\"3\"; span class=\"barcode\"; style=\"color: black; background-color: #e8f6e3\">&nbspbummer&nbsp</span><font face=\"monospace\" \n",
              "size=\"3\"; span class=\"barcode\"; style=\"color: black; background-color: #f1faee\">&nbspand&nbsp</span><font face=\"monospace\" \n",
              "size=\"3\"; span class=\"barcode\"; style=\"color: black; background-color: #f1faee\">&nbspreally&nbsp</span><font face=\"monospace\" \n",
              "size=\"3\"; span class=\"barcode\"; style=\"color: black; background-color: #e9f7e5\">&nbspsucked&nbsp</span><font face=\"monospace\" \n",
              "size=\"3\"; span class=\"barcode\"; style=\"color: black; background-color: #eff9ec\">&nbspto&nbsp</span><font face=\"monospace\" \n",
              "size=\"3\"; span class=\"barcode\"; style=\"color: black; background-color: #e4f5df\">&nbspkill&nbsp</span><font face=\"monospace\" \n",
              "size=\"3\"; span class=\"barcode\"; style=\"color: black; background-color: #e9f7e5\">&nbsphis&nbsp</span><font face=\"monospace\" \n",
              "size=\"3\"; span class=\"barcode\"; style=\"color: black; background-color: #e9f7e5\">&nbspchristmas&nbsp</span></br><font face=\"monospace\" \n",
              "size=\"3\"; span class=\"barcode\"; style=\"color: black; background-color: #fcb499\">&nbsp&nbsp&nbsp</span><font face=\"monospace\" \n",
              "size=\"3\"; span class=\"barcode\"; style=\"color: black; background-color: #f1faee\">&nbspwas&nbsp</span><font face=\"monospace\" \n",
              "size=\"3\"; span class=\"barcode\"; style=\"color: black; background-color: #f4fbf2\">&nbspto&nbsp</span><font face=\"monospace\" \n",
              "size=\"3\"; span class=\"barcode\"; style=\"color: black; background-color: #f4fbf1\">&nbspbuy&nbsp</span><font face=\"monospace\" \n",
              "size=\"3\"; span class=\"barcode\"; style=\"color: black; background-color: #f4fbf1\">&nbspa&nbsp</span><font face=\"monospace\" \n",
              "size=\"3\"; span class=\"barcode\"; style=\"color: black; background-color: #f0f9ed\">&nbspserial&nbsp</span><font face=\"monospace\" \n",
              "size=\"3\"; span class=\"barcode\"; style=\"color: black; background-color: #ecf8e8\">&nbspadapter&nbsp</span><font face=\"monospace\" \n",
              "size=\"3\"; span class=\"barcode\"; style=\"color: black; background-color: #e9f7e5\">&nbspcable&nbsp</span><font face=\"monospace\" \n",
              "size=\"3\"; span class=\"barcode\"; style=\"color: black; background-color: #f4fbf1\">&nbspfrom&nbsp</span><font face=\"monospace\" \n",
              "size=\"3\"; span class=\"barcode\"; style=\"color: black; background-color: #e8f6e4\">&nbspthem&nbsp</span><font face=\"monospace\" \n",
              "size=\"3\"; span class=\"barcode\"; style=\"color: black; background-color: #f5fbf2\">&nbspand&nbsp</span><font face=\"monospace\" \n",
              "size=\"3\"; span class=\"barcode\"; style=\"color: black; background-color: #f1faee\">&nbspupdate&nbsp</span><font face=\"monospace\" \n",
              "size=\"3\"; span class=\"barcode\"; style=\"color: black; background-color: #f4fbf1\">&nbspthe&nbsp</span><font face=\"monospace\" \n",
              "size=\"3\"; span class=\"barcode\"; style=\"color: black; background-color: #edf8e9\">&nbspcomputer&nbsp</span><font face=\"monospace\" \n",
              "size=\"3\"; span class=\"barcode\"; style=\"color: black; background-color: #f4fbf2\">&nbsps&nbsp</span><font face=\"monospace\" \n",
              "size=\"3\"; span class=\"barcode\"; style=\"color: black; background-color: #f0f9ec\">&nbspfirmware&nbsp</span><font face=\"monospace\" \n",
              "size=\"3\"; span class=\"barcode\"; style=\"color: black; background-color: #f4fbf1\">&nbspsince&nbsp</span><font face=\"monospace\" \n",
              "size=\"3\"; span class=\"barcode\"; style=\"color: black; background-color: #f4fbf2\">&nbspit&nbsp</span><font face=\"monospace\" \n",
              "size=\"3\"; span class=\"barcode\"; style=\"color: black; background-color: #f2faf0\">&nbspdoesn&nbsp</span><font face=\"monospace\" \n",
              "size=\"3\"; span class=\"barcode\"; style=\"color: black; background-color: #f2faf0\">&nbspt&nbsp</span><font face=\"monospace\" \n",
              "size=\"3\"; span class=\"barcode\"; style=\"color: black; background-color: #f2faef\">&nbsptake&nbsp</span><font face=\"monospace\" \n",
              "size=\"3\"; span class=\"barcode\"; style=\"color: black; background-color: #f5fbf2\">&nbspa&nbsp</span><font face=\"monospace\" \n",
              "size=\"3\"; span class=\"barcode\"; style=\"color: black; background-color: #f4fbf1\">&nbspnormal&nbsp</span><font face=\"monospace\" \n",
              "size=\"3\"; span class=\"barcode\"; style=\"color: black; background-color: #f2faef\">&nbspserial&nbsp</span><font face=\"monospace\" \n",
              "size=\"3\"; span class=\"barcode\"; style=\"color: black; background-color: #eff9eb\">&nbspcable&nbsp</span></br><font face=\"monospace\" \n",
              "size=\"3\"; span class=\"barcode\"; style=\"color: black; background-color: #fed8c7\">&nbsp&nbsp&nbsp</span><font face=\"monospace\" \n",
              "size=\"3\"; span class=\"barcode\"; style=\"color: black; background-color: #eff9ec\">&nbspi&nbsp</span><font face=\"monospace\" \n",
              "size=\"3\"; span class=\"barcode\"; style=\"color: black; background-color: #f1faee\">&nbspm&nbsp</span><font face=\"monospace\" \n",
              "size=\"3\"; span class=\"barcode\"; style=\"color: black; background-color: #f2faef\">&nbspa&nbsp</span><font face=\"monospace\" \n",
              "size=\"3\"; span class=\"barcode\"; style=\"color: black; background-color: #f2faf0\">&nbspxxunk&nbsp</span><font face=\"monospace\" \n",
              "size=\"3\"; span class=\"barcode\"; style=\"color: black; background-color: #f2faef\">&nbspand&nbsp</span><font face=\"monospace\" \n",
              "size=\"3\"; span class=\"barcode\"; style=\"color: black; background-color: #f0f9ec\">&nbspi&nbsp</span><font face=\"monospace\" \n",
              "size=\"3\"; span class=\"barcode\"; style=\"color: black; background-color: #ecf8e8\">&nbspeven&nbsp</span><font face=\"monospace\" \n",
              "size=\"3\"; span class=\"barcode\"; style=\"color: black; background-color: #f3faf0\">&nbspattempted&nbsp</span><font face=\"monospace\" \n",
              "size=\"3\"; span class=\"barcode\"; style=\"color: black; background-color: #f1faee\">&nbspto&nbsp</span><font face=\"monospace\" \n",
              "size=\"3\"; span class=\"barcode\"; style=\"color: black; background-color: #f1faee\">&nbspmake&nbsp</span><font face=\"monospace\" \n",
              "size=\"3\"; span class=\"barcode\"; style=\"color: black; background-color: #edf8ea\">&nbspmy&nbsp</span><font face=\"monospace\" \n",
              "size=\"3\"; span class=\"barcode\"; style=\"color: black; background-color: #eff9eb\">&nbspown&nbsp</span><font face=\"monospace\" \n",
              "size=\"3\"; span class=\"barcode\"; style=\"color: black; background-color: #f1faee\">&nbspbut&nbsp</span><font face=\"monospace\" \n",
              "size=\"3\"; span class=\"barcode\"; style=\"color: black; background-color: #f1faee\">&nbspit&nbsp</span><font face=\"monospace\" \n",
              "size=\"3\"; span class=\"barcode\"; style=\"color: black; background-color: #ebf7e7\">&nbspwas&nbsp</span><font face=\"monospace\" \n",
              "size=\"3\"; span class=\"barcode\"; style=\"color: black; background-color: #ecf8e8\">&nbspno&nbsp</span><font face=\"monospace\" \n",
              "size=\"3\"; span class=\"barcode\"; style=\"color: black; background-color: #ecf8e8\">&nbspgood&nbsp</span></br><font face=\"monospace\" \n",
              "size=\"3\"; span class=\"barcode\"; style=\"color: black; background-color: #fff2ec\">&nbsp&nbsp&nbsp</span><font face=\"monospace\" \n",
              "size=\"3\"; span class=\"barcode\"; style=\"color: black; background-color: #c9eac2\">&nbspmajor&nbsp</span><font face=\"monospace\" \n",
              "size=\"3\"; span class=\"barcode\"; style=\"color: black; background-color: #81ca81\">&nbspbummer&nbsp</span></br>"
            ],
            "text/plain": [
              "<IPython.core.display.HTML object>"
            ]
          },
          "metadata": {
            "tags": []
          }
        }
      ]
    },
    {
      "cell_type": "markdown",
      "metadata": {
        "colab_type": "text",
        "id": "tN_3KePCgIK4"
      },
      "source": [
        "## Top word & sentence attention weights"
      ]
    },
    {
      "cell_type": "code",
      "metadata": {
        "colab_type": "code",
        "id": "y-olt-ap7YLz",
        "outputId": "19197830-e21c-4d1a-c352-4536bbdd6569",
        "colab": {
          "base_uri": "https://localhost:8080/",
          "height": 187
        }
      },
      "source": [
        "# Top 10 average word attention weights\n",
        "\n",
        "avg_weights = {}\n",
        "for i, review in enumerate(test_padded_texts):\n",
        "  word_weights = word_attn[i]\n",
        "  doc = [vocab.textify(s) for s in test_padded_texts[i]]\n",
        "\n",
        "  for j in range(word_weights.shape[0]):\n",
        "    words_in_sentence = doc[j].split()\n",
        "    for k in range(word_weights.shape[1]):\n",
        "      if len(words_in_sentence) < word_weights.shape[1]:\n",
        "        continue\n",
        "      word = words_in_sentence[k]\n",
        "      if word == 'xxpad':\n",
        "        continue\n",
        "      if word in avg_weights:\n",
        "        avg_weights[word] = (avg_weights[word][0] + word_weights[j][k], avg_weights[word][1] + 1)\n",
        "      else:\n",
        "        avg_weights[word] = (word_weights[j][k], 1)\n",
        "\n",
        "for k,v in avg_weights.items():\n",
        "  avg_weights[k] = v[0] / v[1]\n",
        "\n",
        "sorted(avg_weights.items(), key=lambda item: item[1], reverse=True)[:10]"
      ],
      "execution_count": 45,
      "outputs": [
        {
          "output_type": "execute_result",
          "data": {
            "text/plain": [
              "[('hmm', 0.7288912534713745),\n",
              " ('skinny', 0.673136830329895),\n",
              " ('discwasher', 0.6393969655036926),\n",
              " ('overrated', 0.5942797660827637),\n",
              " ('positives', 0.5590387344360351),\n",
              " ('lol', 0.5450962066650391),\n",
              " ('snowflake', 0.5320731401443481),\n",
              " ('bravo', 0.5173042416572571),\n",
              " ('excelente', 0.5091871193477085),\n",
              " ('skyfi', 0.5024579763412476)]"
            ]
          },
          "metadata": {
            "tags": []
          },
          "execution_count": 45
        }
      ]
    },
    {
      "cell_type": "code",
      "metadata": {
        "colab_type": "code",
        "id": "-MAbFODbsani",
        "outputId": "83d098cb-ed57-48f7-fb69-e917ec97d9d2",
        "colab": {
          "base_uri": "https://localhost:8080/",
          "height": 377
        }
      },
      "source": [
        "# Top 10 sentence attention weights\n",
        "\n",
        "sent_weights = {}\n",
        "\n",
        "for i, review in enumerate(test_padded_texts):\n",
        "    sent_atten_per_doc = sent_attn[i]\n",
        "    doc = [vocab.textify(s) for s in test_padded_texts[i]]\n",
        "\n",
        "    for j in range(len(sent_atten_per_doc)):\n",
        "        words_in_sentence = doc[j].split()\n",
        "        words_in_sentence = list(filter(lambda a: a != 'xxpad', words_in_sentence))\n",
        "        original_sentence = \" \".join(x for x in words_in_sentence)\n",
        "        sent_weights[original_sentence] = sent_atten_per_doc[j]\n",
        "\n",
        "sorted(sent_weights.items(), key=lambda item: item[1], reverse=True)[:10]"
      ],
      "execution_count": 46,
      "outputs": [
        {
          "output_type": "execute_result",
          "data": {
            "text/plain": [
              "[('type keyboards no trouble using the keyboard with any computer with a ps connector but the usb converter is not xxunk with the dell',\n",
              "  0.7448734),\n",
              " ('wallet but looks ok and performs ok i rarely have to point it anywhere i m in north xxunk in order to get reception',\n",
              "  0.74380964),\n",
              " ('and one cable to the y splitter the signal will bounce in the cable and produce really ugly ghosting of edges in the image',\n",
              "  0.7385943),\n",
              " ('makes it easy to hall my gear around town xxunk on my f and fx but xxunk not fit the f bag and strap',\n",
              "  0.73735064),\n",
              " ('and smells good in your car or truck has good dimensions for the that i bought any questions email me at xxunk yahoo com',\n",
              "  0.7371715),\n",
              " ('lens will not zoom in and out as it should the money that paid for this lens i would like to have it working',\n",
              "  0.7364107),\n",
              " ('of space between lcd plasma screen and the wall as it will stick out inch and you still need inch for the power plug',\n",
              "  0.7361024),\n",
              " ('work right out of the box with ubuntu no need to change anything just run indicating the number of device and that s all',\n",
              "  0.7359495),\n",
              " ('that the same manufacturer s drive and media would be compatible but in this crazy mixed up technology world i am not so sure',\n",
              "  0.73561513),\n",
              " ('overall protection of your lenses but not multi coated glass so pretty significant problem with ghosting and lens flare when shooting towards a light',\n",
              "  0.73557144)]"
            ]
          },
          "metadata": {
            "tags": []
          },
          "execution_count": 46
        }
      ]
    },
    {
      "cell_type": "markdown",
      "metadata": {
        "colab_type": "text",
        "id": "mDTJ3NRp3yoL"
      },
      "source": [
        "## Word Level Analysis"
      ]
    },
    {
      "cell_type": "code",
      "metadata": {
        "colab_type": "code",
        "id": "e51VnvXh94XF",
        "outputId": "096b53c1-4f02-490e-f98a-cead91e1f91a",
        "colab": {
          "base_uri": "https://localhost:8080/",
          "height": 136
        }
      },
      "source": [
        "from nltk.stem import WordNetLemmatizer\n",
        "nltk.download('universal_tagset')\n",
        "nltk.download('averaged_perceptron_tagger')\n",
        "nltk.download('wordnet')\n",
        "lemmatizer = WordNetLemmatizer()\n",
        "count=500"
      ],
      "execution_count": 47,
      "outputs": [
        {
          "output_type": "stream",
          "text": [
            "[nltk_data] Downloading package universal_tagset to /root/nltk_data...\n",
            "[nltk_data]   Unzipping taggers/universal_tagset.zip.\n",
            "[nltk_data] Downloading package averaged_perceptron_tagger to\n",
            "[nltk_data]     /root/nltk_data...\n",
            "[nltk_data]   Unzipping taggers/averaged_perceptron_tagger.zip.\n",
            "[nltk_data] Downloading package wordnet to /root/nltk_data...\n",
            "[nltk_data]   Unzipping corpora/wordnet.zip.\n"
          ],
          "name": "stdout"
        }
      ]
    },
    {
      "cell_type": "code",
      "metadata": {
        "colab_type": "code",
        "id": "NC_kpAVT_IuN",
        "outputId": "21a939ac-3977-4a48-af62-f9e5f3b93c07",
        "colab": {
          "base_uri": "https://localhost:8080/",
          "height": 153
        }
      },
      "source": [
        "# Distribution of POS tags of top attended words using NLTK\n",
        "top_attended_words = sorted(avg_weights.items(), key=lambda item: item[1], reverse=True)[:count]\n",
        "top_attended_words = [w[0] for w in top_attended_words]\n",
        "# print(top_attended_words)\n",
        "top_pos_tags = [w[1] for w in nltk.pos_tag(top_attended_words, tagset='universal')]\n",
        "df = pd.DataFrame(top_pos_tags)\n",
        "df[0].value_counts()"
      ],
      "execution_count": 48,
      "outputs": [
        {
          "output_type": "execute_result",
          "data": {
            "text/plain": [
              "NOUN    265\n",
              "ADJ      99\n",
              "VERB     97\n",
              "ADV      32\n",
              "ADP       3\n",
              "X         3\n",
              "DET       1\n",
              "Name: 0, dtype: int64"
            ]
          },
          "metadata": {
            "tags": []
          },
          "execution_count": 48
        }
      ]
    },
    {
      "cell_type": "code",
      "metadata": {
        "colab_type": "code",
        "id": "sd7s3Og78Ds9",
        "outputId": "e270da4c-6576-46a6-bf6f-669a6ee65f84",
        "colab": {
          "base_uri": "https://localhost:8080/",
          "height": 170
        }
      },
      "source": [
        "# Distribution of POS tags of bottom attended words using NLTK\n",
        "bottom_attended_words = sorted(avg_weights.items(), key=lambda item: item[1], reverse=False)[:count]\n",
        "bottom_attended_words = [w[0] for w in bottom_attended_words]\n",
        "# print(bottom_attended_words)\n",
        "bottom_pos_tags = [w[1] for w in nltk.pos_tag(bottom_attended_words, tagset='universal')]\n",
        "df = pd.DataFrame(bottom_pos_tags)\n",
        "df[0].value_counts()"
      ],
      "execution_count": 49,
      "outputs": [
        {
          "output_type": "execute_result",
          "data": {
            "text/plain": [
              "NOUN    207\n",
              "VERB    156\n",
              "ADJ     101\n",
              "ADV      29\n",
              "ADP       3\n",
              "PRON      2\n",
              "NUM       1\n",
              "PRT       1\n",
              "Name: 0, dtype: int64"
            ]
          },
          "metadata": {
            "tags": []
          },
          "execution_count": 49
        }
      ]
    },
    {
      "cell_type": "code",
      "metadata": {
        "colab_type": "code",
        "id": "zt8WqMWU_056",
        "outputId": "2ecb5e86-dea6-4753-b314-3bae1e86c8c1",
        "colab": {
          "base_uri": "https://localhost:8080/",
          "height": 221
        }
      },
      "source": [
        "# Distribution of POS tags of all words using NLTK\n",
        "all_words = [w[0] for w in avg_weights.items()]\n",
        "pos_tags = [w[1] for w in nltk.pos_tag(all_words, tagset='universal')]\n",
        "df = pd.DataFrame(pos_tags)\n",
        "df[0].value_counts()"
      ],
      "execution_count": 50,
      "outputs": [
        {
          "output_type": "execute_result",
          "data": {
            "text/plain": [
              "NOUN    4583\n",
              "VERB    2372\n",
              "ADJ     2046\n",
              "ADV      567\n",
              "ADP      108\n",
              "PRON      29\n",
              "DET       21\n",
              "NUM       18\n",
              "X         13\n",
              "PRT       12\n",
              "CONJ      10\n",
              "Name: 0, dtype: int64"
            ]
          },
          "metadata": {
            "tags": []
          },
          "execution_count": 50
        }
      ]
    },
    {
      "cell_type": "code",
      "metadata": {
        "colab_type": "code",
        "id": "Ybo64BrZ_KjO",
        "outputId": "6b8402d6-d0b0-420b-b0d8-e35acaa704d4",
        "colab": {
          "base_uri": "https://localhost:8080/",
          "height": 88
        }
      },
      "source": [
        "state_verbs = ['adore','agree','appear','appreciate','be','believe','belong','concern','consist','contain','cost','deny','depend','deserve','detest','disagree','dislike','doubt','equal','feel','hate','have','hear','imagine','include','involve','know','lack','like','loathe','look','love','matter','mean','measure','mind','need','owe','own','possess','promise','realize','recognize','remember','resemble','satisfy','see','seem','smell','sound','suppose','surprise','taste','think','understand','want','weigh','wish']\n",
        "\n",
        "lemmatized_top_attended_words = [lemmatizer.lemmatize(i) for i in top_attended_words]\n",
        "lemmatized_bottom_attended_words = [lemmatizer.lemmatize(i) for i in bottom_attended_words]\n",
        "lemmatized_all_words = [lemmatizer.lemmatize(i) for i in all_words]\n",
        "print([i for i in lemmatized_top_attended_words if i in state_verbs])\n",
        "print([i for i in lemmatized_bottom_attended_words if i in state_verbs])\n",
        "print([i for i in lemmatized_all_words if i in state_verbs])"
      ],
      "execution_count": 51,
      "outputs": [
        {
          "output_type": "stream",
          "text": [
            "['deserve', 'smell']\n",
            "['belong', 'wish', 'doubt']\n",
            "['have', 'be', 'see', 'mean', 'think', 'sound', 'seem', 'cost', 'matter', 'surprise', 'include', 'imagine', 'look', 'want', 'need', 'love', 'like', 'lack', 'need', 'feel', 'own', 'feel', 'mind', 'lack', 'look', 'mean', 'believe', 'hate', 'know', 'want', 'hear', 'measure', 'cost', 'disagree', 'know', 'sound', 'love', 'depend', 'agree', 'wish', 'remember', 'surprise', 'see', 'concern', 'taste', 'recognize', 'doubt', 'understand', 'concern', 'think', 'suppose', 'realize', 'like', 'taste', 'equal', 'appear', 'matter', 'appreciate', 'measure', 'weigh', 'contain', 'satisfy', 'equal', 'owe', 'deserve', 'dislike', 'promise', 'belong', 'wish', 'smell', 'dislike', 'promise', 'smell', 'doubt', 'involve']\n"
          ],
          "name": "stdout"
        }
      ]
    },
    {
      "cell_type": "code",
      "metadata": {
        "colab_type": "code",
        "id": "hrrPnGne9UxF",
        "outputId": "8d359747-3502-4e1a-a437-8edb92890489",
        "colab": {
          "base_uri": "https://localhost:8080/",
          "height": 85
        }
      },
      "source": [
        "from nltk.corpus import sentiwordnet as swn\n",
        "from nltk.corpus import wordnet as wn\n",
        "nltk.download('sentiwordnet')\n",
        "nltk.download('punkt')\n",
        "k=3"
      ],
      "execution_count": 52,
      "outputs": [
        {
          "output_type": "stream",
          "text": [
            "[nltk_data] Downloading package sentiwordnet to /root/nltk_data...\n",
            "[nltk_data]   Unzipping corpora/sentiwordnet.zip.\n",
            "[nltk_data] Downloading package punkt to /root/nltk_data...\n",
            "[nltk_data]   Unzipping tokenizers/punkt.zip.\n"
          ],
          "name": "stdout"
        }
      ]
    },
    {
      "cell_type": "code",
      "metadata": {
        "colab_type": "code",
        "id": "64DCZ2DHDN8P",
        "outputId": "840f5c9b-0917-4ac0-d0f1-ef86258f26e8",
        "colab": {
          "base_uri": "https://localhost:8080/",
          "height": 119
        }
      },
      "source": [
        "# Polarity/Subjectivity scores of all words using TextBlob\n",
        "\n",
        "top_word_pola_scores = []\n",
        "top_word_subj_scores = []\n",
        "bottom_word_pola_scores = []\n",
        "bottom_word_subj_scores = []\n",
        "all_word_pola_scores = []\n",
        "all_word_subj_scores = []\n",
        "\n",
        "for sent in top_attended_words:\n",
        "  s = TextBlob(sent)\n",
        "  top_word_pola_scores.append(s.sentiment.polarity)\n",
        "  top_word_subj_scores.append(s.sentiment.subjectivity)\n",
        "\n",
        "for sent in bottom_attended_words:\n",
        "  s = TextBlob(sent)\n",
        "  bottom_word_pola_scores.append(s.sentiment.polarity)\n",
        "  bottom_word_subj_scores.append(s.sentiment.subjectivity)\n",
        "\n",
        "for sent in all_words:\n",
        "  s = TextBlob(sent)\n",
        "  all_word_pola_scores.append(s.sentiment.polarity)\n",
        "  all_word_subj_scores.append(s.sentiment.subjectivity)\n",
        "\n",
        "print('Top Polarity Mean: {}, Std: {}'.format(np.mean(top_word_pola_scores), np.std(top_word_pola_scores)))\n",
        "print('Top Subjectivity Mean: {}, Std: {}'.format(np.mean(top_word_subj_scores), np.std(top_word_subj_scores)))\n",
        "print('Bottom Polarity Mean: {}, Std: {}'.format(np.mean(bottom_word_pola_scores), np.std(bottom_word_pola_scores)))\n",
        "print('Bottom Subjectivity Mean: {}, Std: {}'.format(np.mean(bottom_word_subj_scores), np.std(bottom_word_subj_scores)))\n",
        "print('All Polarity Mean: {}, Std: {}'.format(np.mean(all_word_pola_scores), np.std(all_word_pola_scores)))\n",
        "print('All Subjectivity Mean: {}, Std: {}'.format(np.mean(all_word_subj_scores), np.std(all_word_subj_scores)))"
      ],
      "execution_count": 53,
      "outputs": [
        {
          "output_type": "stream",
          "text": [
            "Top Polarity Mean: -0.00275, Std: 0.1216087476294366\n",
            "Top Subjectivity Mean: 0.0346, Std: 0.16909417494402346\n",
            "Bottom Polarity Mean: 0.0065393939393939395, Std: 0.09329751555936551\n",
            "Bottom Subjectivity Mean: 0.03250909090909091, Std: 0.15240204115680447\n",
            "All Polarity Mean: 0.0055830209887373205, Std: 0.12886528184288576\n",
            "All Subjectivity Mean: 0.055258490103821944, Std: 0.19763752234526702\n"
          ],
          "name": "stdout"
        }
      ]
    },
    {
      "cell_type": "markdown",
      "metadata": {
        "colab_type": "text",
        "id": "tg9qNxPP3yok"
      },
      "source": [
        "## Sentence Level Analysis"
      ]
    },
    {
      "cell_type": "code",
      "metadata": {
        "colab_type": "code",
        "id": "HV0FtWqoHFTY",
        "outputId": "f2a50f79-2027-41a0-8e72-4a8578d13f7b",
        "colab": {
          "base_uri": "https://localhost:8080/",
          "height": 68
        }
      },
      "source": [
        "# Automated Readability Index\n",
        "def ari(sentence):\n",
        "    chars = len(sentence.replace(' ', ''))\n",
        "    words = len(sentence.split(' '))\n",
        "    return 4.71 * chars / words + 0.5 * words - 21.43\n",
        "\n",
        "top_sentences = sorted(sent_weights.items(), key=lambda item: item[1], reverse=True)[:count]\n",
        "top_sentences = [s[0] for s in top_sentences]\n",
        "\n",
        "top_ari = [ari(s) for s in top_sentences]\n",
        "print('Top Mean: {}, Std: {}'.format(np.mean(top_ari), np.std(top_ari)))\n",
        "\n",
        "bottom_sentences = sorted(sent_weights.items(), key=lambda item: item[1], reverse=False)[:count]\n",
        "bottom_sentences = [s[0] for s in bottom_sentences]\n",
        "\n",
        "bottom_ari = [ari(s) for s in bottom_sentences]\n",
        "print('Bottom Mean: {}, Std: {}'.format(np.mean(bottom_ari), np.std(bottom_ari)))\n",
        "\n",
        "all_ari = [ari(s[0]) for s in sent_weights.items()]\n",
        "print('All Mean: {}, Std: {}'.format(np.mean(all_ari), np.std(all_ari)))"
      ],
      "execution_count": 54,
      "outputs": [
        {
          "output_type": "stream",
          "text": [
            "Top Mean: 8.314571055649045, Std: 2.810831404651313\n",
            "Bottom Mean: 2.858531696553447, Std: 6.39919667758775\n",
            "All Mean: 5.834034933356928, Std: 4.443445941699827\n"
          ],
          "name": "stdout"
        }
      ]
    },
    {
      "cell_type": "code",
      "metadata": {
        "colab_type": "code",
        "id": "UPoip51BI74Y",
        "colab": {}
      },
      "source": [
        "top_attended_sents = sorted(sent_weights.items(), key=lambda item: item[1], reverse=True)[:100]\n",
        "top_attended_sents = [w[0] for w in top_attended_sents]\n",
        "\n",
        "bottom_attended_sents = sorted(sent_weights.items(), key=lambda item: item[1], reverse=False)[:100]\n",
        "bottom_attended_sents = [w[0] for w in bottom_attended_sents]\n",
        "\n",
        "all_attended_sents = [w[0] for w in sent_weights.items()]"
      ],
      "execution_count": 0,
      "outputs": []
    },
    {
      "cell_type": "code",
      "metadata": {
        "colab_type": "code",
        "id": "Ra6C0iqe3yon",
        "outputId": "b220c939-e0a9-4046-8c9b-178334c3c2f6",
        "colab": {
          "base_uri": "https://localhost:8080/",
          "height": 119
        }
      },
      "source": [
        "# Sentence Polarity & Subjectivity using TextBlob\n",
        "from textblob import TextBlob\n",
        "top_sent_pola_scores = []\n",
        "top_sent_subj_scores = []\n",
        "bottom_sent_pola_scores = []\n",
        "bottom_sent_subj_scores = []\n",
        "all_sent_pola_scores = []\n",
        "all_sent_subj_scores = []\n",
        "\n",
        "for sent in top_attended_sents:\n",
        "  s = TextBlob(sent)\n",
        "  top_sent_pola_scores.append(s.sentiment.polarity)\n",
        "  top_sent_subj_scores.append(s.sentiment.subjectivity)\n",
        "\n",
        "for sent in bottom_attended_sents:\n",
        "  s = TextBlob(sent)\n",
        "  bottom_sent_pola_scores.append(s.sentiment.polarity)\n",
        "  bottom_sent_subj_scores.append(s.sentiment.subjectivity)\n",
        "\n",
        "for sent in all_attended_sents:\n",
        "  s = TextBlob(sent)\n",
        "  all_sent_pola_scores.append(s.sentiment.polarity)\n",
        "  all_sent_subj_scores.append(s.sentiment.subjectivity)\n",
        "\n",
        "print('Top Polarity Mean: {}, Std: {}'.format(np.mean(top_sent_pola_scores), np.std(top_sent_pola_scores)))\n",
        "print('Top Subjectivity Mean: {}, Std: {}'.format(np.mean(top_sent_subj_scores), np.std(top_sent_subj_scores)))\n",
        "print('Bottom Polarity Mean: {}, Std: {}'.format(np.mean(bottom_sent_pola_scores), np.std(bottom_sent_pola_scores)))\n",
        "print('Bottom Subjectivity Mean: {}, Std: {}'.format(np.mean(bottom_sent_subj_scores), np.std(bottom_sent_subj_scores)))\n",
        "print('All Polarity Mean: {}, Std: {}'.format(np.mean(all_sent_pola_scores), np.std(all_sent_pola_scores)))\n",
        "print('All Subjectivity Mean: {}, Std: {}'.format(np.mean(all_sent_subj_scores), np.std(all_sent_subj_scores)))"
      ],
      "execution_count": 56,
      "outputs": [
        {
          "output_type": "stream",
          "text": [
            "Top Polarity Mean: 0.18950417619417617, Std: 0.29150043610142906\n",
            "Top Subjectivity Mean: 0.44302264716764717, Std: 0.2774646488537869\n",
            "Bottom Polarity Mean: 0.24083571428571432, Std: 0.3432976497951527\n",
            "Bottom Subjectivity Mean: 0.380002380952381, Std: 0.3752056303109094\n",
            "All Polarity Mean: 0.14996197400959196, Std: 0.29380648384717645\n",
            "All Subjectivity Mean: 0.4007260598499362, Std: 0.306813019538775\n"
          ],
          "name": "stdout"
        }
      ]
    },
    {
      "cell_type": "markdown",
      "metadata": {
        "id": "njrlwQCk_Rm1",
        "colab_type": "text"
      },
      "source": [
        "## References\n",
        "\n",
        "https://towardsdatascience.com/predicting-amazon-reviews-scores-using-hierarchical-attention-networks-with-pytorch-and-apache-5214edb3df20"
      ]
    },
    {
      "cell_type": "code",
      "metadata": {
        "id": "ky1VhDuAA7vM",
        "colab_type": "code",
        "colab": {}
      },
      "source": [
        ""
      ],
      "execution_count": 0,
      "outputs": []
    }
  ]
}